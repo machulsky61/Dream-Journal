{
  "nbformat": 4,
  "nbformat_minor": 0,
  "metadata": {
    "colab": {
      "provenance": []
    },
    "kernelspec": {
      "name": "python3",
      "display_name": "Python 3"
    },
    "language_info": {
      "name": "python"
    }
  },
  "cells": [
    {
      "cell_type": "markdown",
      "source": [
        "#Levanto data set preprocesado"
      ],
      "metadata": {
        "id": "b-oOetL__m9G"
      }
    },
    {
      "cell_type": "code",
      "execution_count": null,
      "metadata": {
        "colab": {
          "base_uri": "https://localhost:8080/"
        },
        "id": "9YOHNABM_j8G",
        "outputId": "48d87ad2-b50b-4e5c-c047-238591a5e232"
      },
      "outputs": [
        {
          "output_type": "stream",
          "name": "stderr",
          "text": [
            "[nltk_data] Downloading package wordnet to /root/nltk_data...\n",
            "[nltk_data]   Unzipping corpora/wordnet.zip.\n",
            "[nltk_data] Downloading package omw-1.4 to /root/nltk_data...\n",
            "[nltk_data]   Unzipping corpora/omw-1.4.zip.\n"
          ]
        },
        {
          "output_type": "stream",
          "name": "stdout",
          "text": [
            "Mounted at /content/drive\n"
          ]
        }
      ],
      "source": [
        "import pandas as pd\n",
        "import matplotlib.pylab as plt\n",
        "import numpy as np\n",
        "import seaborn as sbn\n",
        "import nltk\n",
        "from nltk.stem import WordNetLemmatizer\n",
        "nltk.download('wordnet')\n",
        "nltk.download('omw-1.4')\n",
        "from gensim.models.phrases import Phrases, Phraser\n",
        "import multiprocessing\n",
        "from gensim.models import Word2Vec\n",
        "\n",
        "from google.colab import drive\n",
        "drive.mount('/content/drive')\n"
      ]
    },
    {
      "cell_type": "code",
      "source": [
        "nltk.download('punkt')"
      ],
      "metadata": {
        "colab": {
          "base_uri": "https://localhost:8080/"
        },
        "id": "t3D6bZaoGXDW",
        "outputId": "50609e95-0d83-4797-cd39-b4c4594410fa"
      },
      "execution_count": null,
      "outputs": [
        {
          "output_type": "stream",
          "name": "stderr",
          "text": [
            "[nltk_data] Downloading package punkt to /root/nltk_data...\n",
            "[nltk_data]   Unzipping tokenizers/punkt.zip.\n"
          ]
        },
        {
          "output_type": "execute_result",
          "data": {
            "text/plain": [
              "True"
            ]
          },
          "metadata": {},
          "execution_count": 20
        }
      ]
    },
    {
      "cell_type": "code",
      "source": [
        "directory = '/content/drive/My Drive/DatosTP/limp'\n",
        "df = pd.read_pickle('/content/drive/My Drive/DatosTP/limp1.pickle')\n",
        "for i in range(2,14):\n",
        "  path = directory + str(i) + '.pickle'\n",
        "  df1 = pd.read_pickle(path)\n",
        "  df = df.append(df1)"
      ],
      "metadata": {
        "id": "-ezdx1KJ_3ig"
      },
      "execution_count": null,
      "outputs": []
    },
    {
      "cell_type": "markdown",
      "source": [
        "##Filtro la información clasificable y la convierto a modelos binarios"
      ],
      "metadata": {
        "id": "OUGC1otCAbL8"
      }
    },
    {
      "cell_type": "markdown",
      "source": [
        "Podría iterar una vez más y predecir el valor de las que dan 3 para separarlas para un lado y para el otro, y usar así el modelo para compararlos entre sí"
      ],
      "metadata": {
        "id": "5SFh8luvAj4m"
      }
    },
    {
      "cell_type": "markdown",
      "source": [],
      "metadata": {
        "id": "RFiiVYHuAjum"
      }
    },
    {
      "cell_type": "code",
      "source": [
        "df['raicesjuntas'] = df['raicesl'].apply(\" \".join)\n",
        "df['raicesjuntas'] = df['raicesjuntas'].str.replace('__','')\n",
        "df['raicesjuntas'] = df['raicesjuntas'].str.replace(' ˆø ',' ')"
      ],
      "metadata": {
        "id": "39zzqHDcAW_I"
      },
      "execution_count": null,
      "outputs": []
    },
    {
      "cell_type": "code",
      "source": [
        "def hago_binaria(numero):\n",
        "  if numero == 4 or numero == 5:\n",
        "    return 1\n",
        "  else:\n",
        "    return 0"
      ],
      "metadata": {
        "id": "_1d8K3fGBCwl"
      },
      "execution_count": null,
      "outputs": []
    },
    {
      "cell_type": "code",
      "source": [
        "#nltk.download('stopwords')\n",
        "\n",
        "#stopwords = nltk.corpus.stopwords.words('english')"
      ],
      "metadata": {
        "id": "4WVcU9aABNu3"
      },
      "execution_count": null,
      "outputs": []
    },
    {
      "cell_type": "markdown",
      "source": [
        "Armo nuevos df con los datos con cohesion y lucidez binarias"
      ],
      "metadata": {
        "id": "Ycn20pulBmVf"
      }
    },
    {
      "cell_type": "code",
      "source": [
        "#dfl = df[((df['lucidity']!=-1))]\n",
        "#dfl = dfl[dfl['lucidity']!= 3]\n",
        "#dfl.shape"
      ],
      "metadata": {
        "id": "LTEpIGZVCkK2"
      },
      "execution_count": null,
      "outputs": []
    },
    {
      "cell_type": "code",
      "source": [
        "#dfl['lucidityb'] = dfl['lucidity'].apply(hago_binaria)"
      ],
      "metadata": {
        "id": "Df1Nd8vVDIy7"
      },
      "execution_count": null,
      "outputs": []
    },
    {
      "cell_type": "code",
      "source": [
        "#df.columns"
      ],
      "metadata": {
        "id": "s2GlkS-6DU26"
      },
      "execution_count": null,
      "outputs": []
    },
    {
      "cell_type": "code",
      "source": [
        "#dfc = df[((df['cohesion']!=-1))]\n",
        "#dfc = dfc[dfc['cohesion']!= 3]\n",
        "#dfc.shape"
      ],
      "metadata": {
        "id": "pXB9_shkC0bW"
      },
      "execution_count": null,
      "outputs": []
    },
    {
      "cell_type": "code",
      "source": [
        "#dfc['cohesionb'] = dfc['cohesion'].apply(hago_binaria)"
      ],
      "metadata": {
        "id": "7F2b19QbD583"
      },
      "execution_count": null,
      "outputs": []
    },
    {
      "cell_type": "code",
      "source": [
        "dflc = df[((df['lucidity']!=-1))]\n",
        "dflc = dflc[dflc['cohesion'] != -1]\n",
        "dflc = dflc[dflc['cohesion'] != 3]\n",
        "dflc = dflc[dflc['lucidity'] != 3]\n",
        "dflc.shape\n",
        "#18234 sueños"
      ],
      "metadata": {
        "colab": {
          "base_uri": "https://localhost:8080/"
        },
        "id": "f1v2BWoDBSZp",
        "outputId": "ff0424ba-eba8-4097-fc29-163b9da711f0"
      },
      "execution_count": null,
      "outputs": [
        {
          "output_type": "execute_result",
          "data": {
            "text/plain": [
              "(18234, 16)"
            ]
          },
          "metadata": {},
          "execution_count": 12
        }
      ]
    },
    {
      "cell_type": "code",
      "source": [
        "dflc['cohesionb'] = dflc['cohesion'].apply(hago_binaria)"
      ],
      "metadata": {
        "id": "NsOpSkCWEAqD"
      },
      "execution_count": null,
      "outputs": []
    },
    {
      "cell_type": "code",
      "source": [
        "dflc['lucidityb'] = dflc['lucidity'].apply(hago_binaria)"
      ],
      "metadata": {
        "id": "V5PYdQAhEG_h"
      },
      "execution_count": null,
      "outputs": []
    },
    {
      "cell_type": "markdown",
      "source": [
        "##Separo set y train y aplico a cada uno los ajustes correspondientes\n",
        "Las raices ya están lemmatizadas"
      ],
      "metadata": {
        "id": "NCItDy2oBU6F"
      }
    },
    {
      "cell_type": "code",
      "source": [
        "from sklearn.model_selection import train_test_split\n",
        "from sklearn.linear_model import LogisticRegression"
      ],
      "metadata": {
        "id": "P3YHFOo3FQNr"
      },
      "execution_count": null,
      "outputs": []
    },
    {
      "cell_type": "code",
      "source": [
        "train, test = train_test_split(dflc, test_size=0.3, random_state=22)"
      ],
      "metadata": {
        "id": "eQNOQeu9FBtI"
      },
      "execution_count": null,
      "outputs": []
    },
    {
      "cell_type": "code",
      "source": [
        "from gensim.models.doc2vec import TaggedDocument\n",
        "import multiprocessing\n",
        "#from gensim.models import Word2Vec"
      ],
      "metadata": {
        "id": "qQpMVD62HyfC"
      },
      "execution_count": null,
      "outputs": []
    },
    {
      "cell_type": "markdown",
      "source": [
        "##cohesion\n"
      ],
      "metadata": {
        "id": "ooelqAe_HoHE"
      }
    },
    {
      "cell_type": "code",
      "source": [
        "def tokenize_text(text):\n",
        "    tokens = []\n",
        "    for sent in nltk.sent_tokenize(text):\n",
        "        for word in nltk.word_tokenize(sent):\n",
        "            if len(word) < 2:\n",
        "                continue\n",
        "            tokens.append(word.lower())\n",
        "    return tokens\n",
        "\n",
        "train_taggedc = train.apply(\n",
        "    lambda r: TaggedDocument(words=tokenize_text(r['raicesjuntas']), tags=[r.cohesionb]), axis=1)\n",
        "test_taggedc = test.apply(\n",
        "    lambda r: TaggedDocument(words=tokenize_text(r['raicesjuntas']), tags=[r.cohesionb]), axis=1)"
      ],
      "metadata": {
        "id": "x7k9_DytYWYj"
      },
      "execution_count": null,
      "outputs": []
    },
    {
      "cell_type": "code",
      "source": [
        "import multiprocessing\n",
        "cores = multiprocessing.cpu_count()"
      ],
      "metadata": {
        "id": "qtDUd37aZDVr"
      },
      "execution_count": null,
      "outputs": []
    },
    {
      "cell_type": "code",
      "source": [
        "from tqdm import tqdm\n",
        "tqdm.pandas(desc=\"progress-bar\")\n",
        "from gensim.models import Doc2Vec\n",
        "from sklearn import utils\n",
        "from sklearn.model_selection import train_test_split\n",
        "import gensim\n",
        "from sklearn.linear_model import LogisticRegression\n",
        "from gensim.models.doc2vec import TaggedDocument\n",
        "import re"
      ],
      "metadata": {
        "id": "EQ8bBL50ZUYc"
      },
      "execution_count": null,
      "outputs": []
    },
    {
      "cell_type": "code",
      "source": [
        "model_dbow = Doc2Vec(dm=0, vector_size=300, negative=5, hs=0, min_count=2, sample = 0)\n",
        "model_dbow.build_vocab([x for x in train_taggedc.values])"
      ],
      "metadata": {
        "id": "gkFdm_itUen2"
      },
      "execution_count": null,
      "outputs": []
    },
    {
      "cell_type": "code",
      "source": [
        "for epoch in range(3):\n",
        "    model_dbow.train(utils.shuffle([x for x in tqdm(train_taggedc.values)]), total_examples=len(train_taggedc.values), epochs=1)\n",
        "    model_dbow.alpha -= 0.002\n",
        "    model_dbow.min_alpha = model_dbow.alpha"
      ],
      "metadata": {
        "colab": {
          "base_uri": "https://localhost:8080/"
        },
        "id": "-16NtzpDSVUQ",
        "outputId": "4e463272-90bb-4db6-e491-5bf2077aadba"
      },
      "execution_count": null,
      "outputs": [
        {
          "output_type": "stream",
          "name": "stderr",
          "text": [
            "100%|██████████| 12763/12763 [00:00<00:00, 2732195.27it/s]\n",
            "100%|██████████| 12763/12763 [00:00<00:00, 2619618.40it/s]\n",
            "100%|██████████| 12763/12763 [00:00<00:00, 1265350.11it/s]\n"
          ]
        }
      ]
    },
    {
      "cell_type": "code",
      "source": [
        "def vec_for_learning(model, tagged_docs):\n",
        "    sents = tagged_docs.values\n",
        "    targets, regressors = zip(*[(doc.tags[0], model.infer_vector(doc.words, steps=20)) for doc in sents])\n",
        "    return targets, regressors"
      ],
      "metadata": {
        "id": "rEYce9kDZpSO"
      },
      "execution_count": null,
      "outputs": []
    },
    {
      "cell_type": "code",
      "source": [
        "y_train, X_train = vec_for_learning(model_dbow, train_taggedc)\n",
        "y_test, X_test = vec_for_learning(model_dbow, test_taggedc)\n",
        "logreg = LogisticRegression(n_jobs=1, C=1e5)\n",
        "logreg.fit(X_train, y_train)\n",
        "y_pred = logreg.predict(X_test)\n",
        "from sklearn.metrics import accuracy_score, f1_score"
      ],
      "metadata": {
        "colab": {
          "base_uri": "https://localhost:8080/"
        },
        "id": "DXdXF77TZwK2",
        "outputId": "8341486e-3403-4802-fc63-c025a6b0529d"
      },
      "execution_count": null,
      "outputs": [
        {
          "output_type": "stream",
          "name": "stderr",
          "text": [
            "/usr/local/lib/python3.7/dist-packages/sklearn/linear_model/_logistic.py:818: ConvergenceWarning: lbfgs failed to converge (status=1):\n",
            "STOP: TOTAL NO. of ITERATIONS REACHED LIMIT.\n",
            "\n",
            "Increase the number of iterations (max_iter) or scale the data as shown in:\n",
            "    https://scikit-learn.org/stable/modules/preprocessing.html\n",
            "Please also refer to the documentation for alternative solver options:\n",
            "    https://scikit-learn.org/stable/modules/linear_model.html#logistic-regression\n",
            "  extra_warning_msg=_LOGISTIC_SOLVER_CONVERGENCE_MSG,\n"
          ]
        }
      ]
    },
    {
      "cell_type": "code",
      "source": [
        "probas = logreg.predict_proba(X_test)"
      ],
      "metadata": {
        "id": "yfS6q3Wmb9kc"
      },
      "execution_count": null,
      "outputs": []
    },
    {
      "cell_type": "code",
      "source": [
        "from sklearn.metrics import roc_curve # función curva ROC de scikit-learn\n",
        "from sklearn.metrics import roc_auc_score # función AUC de scikit-learn"
      ],
      "metadata": {
        "id": "XfeSvc5UlNwm"
      },
      "execution_count": null,
      "outputs": []
    },
    {
      "cell_type": "code",
      "source": [
        "fpr, tpr, thresholds = roc_curve(y_test, probas[:,1]) # Función ROC: recibe las etiquetas verdaderas y las probas de que sean 1\n",
        "                                                # Devuelve las tastas de falsos positivos y verdaderos positivos, además de los\n",
        "                                                # umbrales a los que están calculados\n",
        "auc = roc_auc_score(y_test, probas[:,1]) # Cálculo del área debajo de la curva, recibe también las etiquetas verdaderas\n",
        "                                    # y la proba de que valgan 1.\n",
        "\n",
        "print('AUC: {}'.format(round(auc,4))) # mostramos el AUC con 4 cifras significativas\n"
      ],
      "metadata": {
        "colab": {
          "base_uri": "https://localhost:8080/"
        },
        "id": "E5GGseYcbsM_",
        "outputId": "c1ea48ec-0877-4565-ad45-e7f2376273e5"
      },
      "execution_count": null,
      "outputs": [
        {
          "output_type": "stream",
          "name": "stdout",
          "text": [
            "AUC: 0.6704\n"
          ]
        }
      ]
    },
    {
      "cell_type": "code",
      "source": [
        "from numpy.random import shuffle # para shufflear el vector\n",
        "\n",
        "y_shuffledt = list(y_train) # creo una copia del vector de targets, porque shuffle lo pisa\n",
        "shuffle(y_shuffledt) # shuffleo\n",
        "\n",
        "y_shuffledtst = list(y_test) # creo una copia del vector de targets, porque shuffle lo pisa\n",
        "shuffle(y_shuffledtst) # shuffleo\n",
        "\n",
        "logreg2 = LogisticRegression(n_jobs=1, C=1e5)\n",
        "logreg2.fit(X_train, y_shuffledt)\n",
        "y_pred2 = logreg2.predict(X_test)\n",
        "\n",
        "probas2 = logreg2.predict_proba(X_test)\n",
        "pr2, tpr2, thresholds2 = roc_curve(y_shuffledtst, probas2[:,1])\n",
        "auc_test2 = roc_auc_score(y_shuffledtst, probas2[:,1]) #  AUC con datos de evaluación"
      ],
      "metadata": {
        "colab": {
          "base_uri": "https://localhost:8080/"
        },
        "id": "6k6tsW1VdUm0",
        "outputId": "99bbe760-2d12-4047-bbcf-5407120c7180"
      },
      "execution_count": null,
      "outputs": [
        {
          "output_type": "stream",
          "name": "stderr",
          "text": [
            "/usr/local/lib/python3.7/dist-packages/sklearn/linear_model/_logistic.py:818: ConvergenceWarning: lbfgs failed to converge (status=1):\n",
            "STOP: TOTAL NO. of ITERATIONS REACHED LIMIT.\n",
            "\n",
            "Increase the number of iterations (max_iter) or scale the data as shown in:\n",
            "    https://scikit-learn.org/stable/modules/preprocessing.html\n",
            "Please also refer to the documentation for alternative solver options:\n",
            "    https://scikit-learn.org/stable/modules/linear_model.html#logistic-regression\n",
            "  extra_warning_msg=_LOGISTIC_SOLVER_CONVERGENCE_MSG,\n"
          ]
        }
      ]
    },
    {
      "cell_type": "code",
      "source": [
        "from sklearn.metrics import roc_curve\n",
        "from sklearn.metrics import roc_auc_score\n",
        "\n",
        "# este codigo fue sacado del notebook de ROC AUC (clase 10) y sirve para visualizar la curva ROC\n",
        "\n",
        "fig, ax = plt.subplots(figsize = (10,7))\n",
        "ax.set_title('Verdaderos positivos vs. falsos positivos')\n",
        "ax.plot(fpr,tpr, label='Modelo real', color='darkcyan')\n",
        "ax.plot(pr2,tpr2, label='Modelo nulo', color = 'magenta')\n",
        "\n",
        "ax.set_xlabel('Tasa de falsos positivos') # Etiqueta del eje x\n",
        "ax.set_ylabel('Tasa de verdaderos positivos') # Etiqueta del eje y\n",
        "plt.legend()"
      ],
      "metadata": {
        "colab": {
          "base_uri": "https://localhost:8080/",
          "height": 476
        },
        "id": "HyDDbboigl8O",
        "outputId": "3036f6bc-e0eb-453d-f7d8-ed3cfbf0cb4b"
      },
      "execution_count": null,
      "outputs": [
        {
          "output_type": "execute_result",
          "data": {
            "text/plain": [
              "<matplotlib.legend.Legend at 0x7fc0b94a8ed0>"
            ]
          },
          "metadata": {},
          "execution_count": 32
        },
        {
          "output_type": "display_data",
          "data": {
            "text/plain": [
              "<Figure size 720x504 with 1 Axes>"
            ],
            "image/png": "[encoded data removed]"
          },
          "metadata": {
            "needs_background": "light"
          }
        }
      ]
    },
    {
      "cell_type": "code",
      "source": [
        "from sklearn.metrics import roc_auc_score\n",
        "\n",
        "y_hat_test = logreg.predict_proba(X_test)[:, 1]\n",
        "y_hat_train = logreg.predict_proba(X_train)[:, 1]\n",
        "\n",
        "# evaluo el AUC\n",
        "roc_test = roc_auc_score(y_test, y_hat_test)\n",
        "roc_train = roc_auc_score(y_train, y_hat_train)\n",
        "roc_test, roc_train"
      ],
      "metadata": {
        "colab": {
          "base_uri": "https://localhost:8080/"
        },
        "id": "4NGfSwNtcgV7",
        "outputId": "3e7ba2a9-399f-4805-91d2-73afaeb8dc0d"
      },
      "execution_count": null,
      "outputs": [
        {
          "output_type": "execute_result",
          "data": {
            "text/plain": [
              "(0.6703874235826053, 0.7175769198720169)"
            ]
          },
          "metadata": {},
          "execution_count": 33
        }
      ]
    },
    {
      "cell_type": "code",
      "source": [
        "from sklearn.metrics import confusion_matrix\n",
        "\n",
        "def TPR_FPR(cm): # computa la tasa de verdaderos y falsos positivos a partir de la matriz de confusion\n",
        "  TPR = cm[1,1]/(cm[1,1]+cm[0,1])\n",
        "  FPR = cm[1,0]/(cm[1,0]+cm[0,0])\n",
        "  return [TPR,FPR] # devuelve una lista donde el primer elemento es la tasa de verdaderos positivos y el segundo la tasa de falsos negativos\n",
        "\n",
        "T = 0.5 # definimos el umbral\n",
        "ypred = np.zeros(probas.shape[0]) # armamos un vector que tiene todos ceros y tiene la longitud del vector de etiquetas\n",
        "ypred[probas[:,1]>T] = 1 # donde la probabilidad es mayor que T, ponemos 1\n",
        "cm = confusion_matrix(ypred, y_test) # metemos en la matriz de confusion\n",
        "metricas = TPR_FPR(cm)\n",
        "\n",
        "print('Matriz de confusion del modelo es:')\n",
        "print(cm)\n",
        "print('Tasa de verdaderos positivos: {}'.format(round(metricas[0],4)))\n",
        "print('Tasa de falsos positivos: {}'.format(round(metricas[1],4)))"
      ],
      "metadata": {
        "id": "DH0etyXur_Uz"
      },
      "execution_count": null,
      "outputs": []
    },
    {
      "cell_type": "markdown",
      "source": [
        "###lucidez"
      ],
      "metadata": {
        "id": "LVRAdpsQHluO"
      }
    },
    {
      "cell_type": "code",
      "source": [
        "from sklearn.metrics import accuracy_score, f1_score"
      ],
      "metadata": {
        "id": "O5XQQ0ikl-AY"
      },
      "execution_count": null,
      "outputs": []
    },
    {
      "cell_type": "code",
      "source": [
        "train_taggedl = train.apply(\n",
        "    lambda r: TaggedDocument(words=tokenize_text(r['raicesjuntas']), tags=[r.lucidityb]), axis=1)\n",
        "test_taggedl = test.apply(\n",
        "    lambda r: TaggedDocument(words=tokenize_text(r['raicesjuntas']), tags=[r.lucidityb]), axis=1)"
      ],
      "metadata": {
        "id": "6T03Ww_bmU-U"
      },
      "execution_count": null,
      "outputs": []
    },
    {
      "cell_type": "code",
      "source": [
        "import multiprocessing\n",
        "cores = multiprocessing.cpu_count()"
      ],
      "metadata": {
        "id": "_O5iGgvrmU-W"
      },
      "execution_count": null,
      "outputs": []
    },
    {
      "cell_type": "code",
      "source": [
        "model_dbow = Doc2Vec(dm=0, vector_size=300, negative=5, hs=0, min_count=2, sample = 0)\n",
        "model_dbow.build_vocab([x for x in train_taggedl.values])"
      ],
      "metadata": {
        "id": "_opq18R1mU-X"
      },
      "execution_count": null,
      "outputs": []
    },
    {
      "cell_type": "code",
      "source": [
        "for epoch in range(3):\n",
        "    model_dbow.train(utils.shuffle([x for x in train_taggedl.values]), total_examples=len(train_taggedl.values), epochs=1)\n",
        "    model_dbow.alpha -= 0.002\n",
        "    model_dbow.min_alpha = model_dbow.alpha"
      ],
      "metadata": {
        "id": "iGHnd-uRmU-Y"
      },
      "execution_count": null,
      "outputs": []
    },
    {
      "cell_type": "code",
      "source": [
        "y_train, X_train = vec_for_learning(model_dbow, train_taggedl)\n",
        "y_test, X_test = vec_for_learning(model_dbow, test_taggedl)\n",
        "logreg = LogisticRegression(n_jobs=1, C=1e5)\n",
        "logreg.fit(X_train, y_train)\n",
        "y_pred = logreg.predict(X_test)"
      ],
      "metadata": {
        "colab": {
          "base_uri": "https://localhost:8080/"
        },
        "outputId": "153982d3-c165-45fe-9d10-6d05205dc989",
        "id": "VmFC0TWAmU-a"
      },
      "execution_count": null,
      "outputs": [
        {
          "output_type": "stream",
          "name": "stderr",
          "text": [
            "/usr/local/lib/python3.7/dist-packages/sklearn/linear_model/_logistic.py:818: ConvergenceWarning: lbfgs failed to converge (status=1):\n",
            "STOP: TOTAL NO. of ITERATIONS REACHED LIMIT.\n",
            "\n",
            "Increase the number of iterations (max_iter) or scale the data as shown in:\n",
            "    https://scikit-learn.org/stable/modules/preprocessing.html\n",
            "Please also refer to the documentation for alternative solver options:\n",
            "    https://scikit-learn.org/stable/modules/linear_model.html#logistic-regression\n",
            "  extra_warning_msg=_LOGISTIC_SOLVER_CONVERGENCE_MSG,\n"
          ]
        }
      ]
    },
    {
      "cell_type": "code",
      "source": [
        "probas = logreg.predict_proba(X_test)"
      ],
      "metadata": {
        "id": "mzR8yw2omU-c"
      },
      "execution_count": null,
      "outputs": []
    },
    {
      "cell_type": "code",
      "source": [
        "fpr, tpr, thresholds = roc_curve(y_test, probas[:,1]) # Función ROC: recibe las etiquetas verdaderas y las probas de que sean 1\n",
        "                                                # Devuelve las tastas de falsos positivos y verdaderos positivos, además de los\n",
        "                                                # umbrales a los que están calculados\n",
        "auc = roc_auc_score(y_test, probas[:,1]) # Cálculo del área debajo de la curva, recibe también las etiquetas verdaderas\n",
        "                                    # y la proba de que valgan 1.\n",
        "\n",
        "print('AUC: {}'.format(round(auc,4))) # mostramos el AUC con 4 cifras significativas\n"
      ],
      "metadata": {
        "colab": {
          "base_uri": "https://localhost:8080/"
        },
        "outputId": "b9615fdd-4581-4a23-d19f-8ee467ee937f",
        "id": "jqtPXJ77mU-g"
      },
      "execution_count": null,
      "outputs": [
        {
          "output_type": "stream",
          "name": "stdout",
          "text": [
            "AUC: 0.7669\n"
          ]
        }
      ]
    },
    {
      "cell_type": "code",
      "source": [
        "from numpy.random import shuffle # para shufflear el vector\n",
        "\n",
        "y_shuffledt = list(y_train) # creo una copia del vector de targets, porque shuffle lo pisa\n",
        "shuffle(y_shuffledt) # shuffleo\n",
        "\n",
        "y_shuffledtst = list(y_test) # creo una copia del vector de targets, porque shuffle lo pisa\n",
        "shuffle(y_shuffledtst) # shuffleo\n",
        "\n",
        "logreg2 = LogisticRegression(n_jobs=1, C=1e5)\n",
        "logreg2.fit(X_train, y_shuffledt)\n",
        "y_pred2 = logreg2.predict(X_test)\n",
        "\n",
        "probas2 = logreg2.predict_proba(X_test)\n",
        "pr2, tpr2, thresholds2 = roc_curve(y_shuffledtst, probas2[:,1])\n",
        "auc_test2 = roc_auc_score(y_shuffledtst, probas2[:,1]) #  AUC con datos de evaluación"
      ],
      "metadata": {
        "colab": {
          "base_uri": "https://localhost:8080/"
        },
        "outputId": "b7fc4d0f-1fab-4b5d-8316-e4e0ddfd1311",
        "id": "1KrmnjPjmU-h"
      },
      "execution_count": null,
      "outputs": [
        {
          "output_type": "stream",
          "name": "stderr",
          "text": [
            "/usr/local/lib/python3.7/dist-packages/sklearn/linear_model/_logistic.py:818: ConvergenceWarning: lbfgs failed to converge (status=1):\n",
            "STOP: TOTAL NO. of ITERATIONS REACHED LIMIT.\n",
            "\n",
            "Increase the number of iterations (max_iter) or scale the data as shown in:\n",
            "    https://scikit-learn.org/stable/modules/preprocessing.html\n",
            "Please also refer to the documentation for alternative solver options:\n",
            "    https://scikit-learn.org/stable/modules/linear_model.html#logistic-regression\n",
            "  extra_warning_msg=_LOGISTIC_SOLVER_CONVERGENCE_MSG,\n"
          ]
        }
      ]
    },
    {
      "cell_type": "code",
      "source": [
        "from sklearn.metrics import roc_curve\n",
        "from sklearn.metrics import roc_auc_score\n",
        "\n",
        "# este codigo fue sacado del notebook de ROC AUC (clase 10) y sirve para visualizar la curva ROC\n",
        "\n",
        "fig, ax = plt.subplots(figsize = (10,7))\n",
        "ax.set_title('Verdaderos positivos vs. falsos positivos')\n",
        "ax.plot(fpr,tpr, label='Modelo real', color='darkcyan')\n",
        "ax.plot(pr2,tpr2, label='Modelo nulo', color = 'magenta')\n",
        "\n",
        "ax.set_xlabel('Tasa de falsos positivos') # Etiqueta del eje x\n",
        "ax.set_ylabel('Tasa de verdaderos positivos') # Etiqueta del eje y\n",
        "plt.legend()"
      ],
      "metadata": {
        "colab": {
          "base_uri": "https://localhost:8080/",
          "height": 476
        },
        "outputId": "716d1cd4-26ac-4ef4-e906-fccece99871e",
        "id": "9DnBWkAPmU-i"
      },
      "execution_count": null,
      "outputs": [
        {
          "output_type": "execute_result",
          "data": {
            "text/plain": [
              "<matplotlib.legend.Legend at 0x7fc09f1aff90>"
            ]
          },
          "metadata": {},
          "execution_count": 43
        },
        {
          "output_type": "display_data",
          "data": {
            "text/plain": [
              "<Figure size 720x504 with 1 Axes>"
            ],
            "image/png": "[encoded data removed]"
          },
          "metadata": {
            "needs_background": "light"
          }
        }
      ]
    },
    {
      "cell_type": "code",
      "source": [
        "from sklearn.metrics import roc_auc_score\n",
        "\n",
        "y_hat_test = logreg.predict_proba(X_test)[:, 1]\n",
        "y_hat_train = logreg.predict_proba(X_train)[:, 1]\n",
        "\n",
        "# evaluo el AUC\n",
        "roc_test = roc_auc_score(y_test, y_hat_test)\n",
        "roc_train = roc_auc_score(y_train, y_hat_train)\n",
        "roc_test, roc_train"
      ],
      "metadata": {
        "colab": {
          "base_uri": "https://localhost:8080/"
        },
        "outputId": "e75af248-c600-4f9d-d91f-efa746ff68f6",
        "id": "fccwTUbgmU-k"
      },
      "execution_count": null,
      "outputs": [
        {
          "output_type": "execute_result",
          "data": {
            "text/plain": [
              "(0.766883661141197, 0.8263520443828305)"
            ]
          },
          "metadata": {},
          "execution_count": 44
        }
      ]
    },
    {
      "cell_type": "code",
      "source": [
        "from sklearn.metrics import confusion_matrix\n",
        "\n",
        "def TPR_FPR(cm): # computa la tasa de verdaderos y falsos positivos a partir de la matriz de confusion\n",
        "  TPR = cm[1,1]/(cm[1,1]+cm[0,1])\n",
        "  FPR = cm[1,0]/(cm[1,0]+cm[0,0])\n",
        "  return [TPR,FPR] # devuelve una lista donde el primer elemento es la tasa de verdaderos positivos y el segundo la tasa de falsos negativos\n",
        "\n",
        "T = 0.5 # definimos el umbral\n",
        "ypred = np.zeros(probas.shape[0]) # armamos un vector que tiene todos ceros y tiene la longitud del vector de etiquetas\n",
        "ypred[probas[:,1]>T] = 1 # donde la probabilidad es mayor que T, ponemos 1\n",
        "cm = confusion_matrix(ypred, y_test) # metemos en la matriz de confusion\n",
        "metricas = TPR_FPR(cm)\n",
        "\n",
        "print('Matriz de confusion del modelo es:')\n",
        "print(cm)\n",
        "print('Tasa de verdaderos positivos: {}'.format(round(metricas[0],4)))\n",
        "print('Tasa de falsos positivos: {}'.format(round(metricas[1],4)))"
      ],
      "metadata": {
        "colab": {
          "base_uri": "https://localhost:8080/"
        },
        "id": "kaHWsmwsqNnn",
        "outputId": "d3b0b259-bdcc-41f2-8831-d2995d7e0137"
      },
      "execution_count": null,
      "outputs": [
        {
          "output_type": "stream",
          "name": "stdout",
          "text": [
            "Matriz de confusion del modelo es:\n",
            "[[4838  482]\n",
            " [  70   81]]\n",
            "Tasa de verdaderos positivos: 0.1439\n",
            "Tasa de falsos positivos: 0.0143\n"
          ]
        }
      ]
    },
    {
      "cell_type": "markdown",
      "source": [
        "TO DO SVD PREDICTER U OTRO MODELO DE PREDICCIONES  \n",
        "NORMALIZAR"
      ],
      "metadata": {
        "id": "buav_XvwtIK-"
      }
    }
  ]
}