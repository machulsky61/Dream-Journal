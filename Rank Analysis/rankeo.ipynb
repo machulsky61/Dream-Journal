{
  "nbformat": 4,
  "nbformat_minor": 0,
  "metadata": {
    "colab": {
      "provenance": []
    },
    "kernelspec": {
      "name": "python3",
      "display_name": "Python 3"
    },
    "language_info": {
      "name": "python"
    }
  },
  "cells": [
    {
      "cell_type": "markdown",
      "metadata": {
        "id": "Yhd-sJ-CqlpE"
      },
      "source": [
        "#0. Carga de datos"
      ]
    },
    {
      "cell_type": "code",
      "execution_count": null,
      "metadata": {
        "id": "nxuPRrvZrMrM",
        "colab": {
          "base_uri": "https://localhost:8080/"
        },
        "outputId": "ada3f0d2-f843-4d1b-889b-6c9917f21d0e"
      },
      "outputs": [
        {
          "output_type": "stream",
          "name": "stdout",
          "text": [
            "Mounted at /content/drive\n"
          ]
        }
      ],
      "source": [
        "# Importamos las librerías habituales\n",
        "import pandas as pd\n",
        "from google.colab import drive\n",
        "drive.mount('/content/drive')\n",
        "import matplotlib\n",
        "import matplotlib.pylab as plt\n",
        "import numpy as np"
      ]
    },
    {
      "cell_type": "markdown",
      "metadata": {
        "id": "O32QYyzuxsa3"
      },
      "source": [
        "\n",
        "\n",
        "---\n",
        "\n",
        "\n",
        "##Cómo levantar el df limpio"
      ]
    },
    {
      "cell_type": "code",
      "execution_count": null,
      "metadata": {
        "id": "YZYd3WMrxzWQ"
      },
      "outputs": [],
      "source": [
        "directory = '/content/drive/My Drive/DatosTP/limp'\n",
        "df = pd.read_pickle('/content/drive/My Drive/DatosTP/limp1.pickle')"
      ]
    },
    {
      "cell_type": "code",
      "execution_count": null,
      "metadata": {
        "id": "Zuu3ktBPx3g7",
        "colab": {
          "base_uri": "https://localhost:8080/",
          "height": 1000
        },
        "outputId": "3a2d6697-7026-4437-94a4-299fd93567d8"
      },
      "outputs": [
        {
          "output_type": "execute_result",
          "data": {
            "text/plain": [
              "        cohesion intent  lucidity  \\\n",
              "0            2.0     -1     -1.00   \n",
              "1            4.0     -1     -1.00   \n",
              "2            3.0     -1     -1.00   \n",
              "3            5.0     -1     -1.00   \n",
              "4            4.0    red      1.25   \n",
              "...          ...    ...       ...   \n",
              "123718       5.0     -1     -1.00   \n",
              "123719       4.0     -1     -1.00   \n",
              "123720       3.0     -1     -1.00   \n",
              "123721       3.0     -1     -1.00   \n",
              "123722       4.0    red      2.50   \n",
              "\n",
              "                                                  raicesl  rating technique  \\\n",
              "0       [i, be, on, the, ground, floor, of, a, dorm, b...     3.0        -1   \n",
              "1       [i, be, leave, a, job, after, a, shift, have, ...     2.0        -1   \n",
              "2       [twilight, my, present, home, i, be, leave, th...     3.0        -1   \n",
              "3       [when, your, favourite, song, be, announce, in...     2.0        -1   \n",
              "4       [serve, customer, be, in, a, mall, style, like...     2.0        -1   \n",
              "...                                                   ...     ...       ...   \n",
              "123718  [first, off, ali, do, not, have, the, father, ...    -1.0        -1   \n",
              "123719  [ali, ben, dan, and, i, be, all, in, the, clas...    -1.0        -1   \n",
              "123720  [i, be, in, some, sort, of, a, strange, arena,...    -1.0        -1   \n",
              "123721  [thois, be, suuuch, a, cool, dream, too, bad, ...    -1.0        -1   \n",
              "123722  [i, live, on, a, beach, in, a, very, lovely, h...    -1.0        -1   \n",
              "\n",
              "                                                      url             user  \\\n",
              "0       http://www.dreamjournal.net/journal/dream/drea...             haux   \n",
              "1       http://www.dreamjournal.net/journal/dream/drea...             haux   \n",
              "2       http://www.dreamjournal.net/journal/dream/drea...       PearlDiver   \n",
              "3       http://www.dreamjournal.net/journal/dream/drea...  LucidDreamer777   \n",
              "4       http://www.dreamjournal.net/journal/dream/drea...  LucidDreamer777   \n",
              "...                                                   ...              ...   \n",
              "123718  http://www.dreamjournal.net/journal/dream/drea...        MtDewWolf   \n",
              "123719  http://www.dreamjournal.net/journal/dream/drea...        MtDewWolf   \n",
              "123720  http://www.dreamjournal.net/journal/dream/drea...  Elemental_angel   \n",
              "123721  http://www.dreamjournal.net/journal/dream/drea...     MyBounciness   \n",
              "123722  http://www.dreamjournal.net/journal/dream/drea...          toric13   \n",
              "\n",
              "                                                    dream  \\\n",
              "0        i was on the ground floor of a dorm building ...   \n",
              "1        i was leaving a job after a shift had ended i...   \n",
              "2        twilight my present home i am leaving the hou...   \n",
              "3        when your favourite song is announced in your...   \n",
              "4        serving customers being in a mall styled like...   \n",
              "...                                                   ...   \n",
              "123718   first off ali did not have the father she doe...   \n",
              "123719   ali ben dan and i were all in the classroom a...   \n",
              "123720   i was in some sort of a strange arena facing ...   \n",
              "123721   thois is suuuch a cool dream too bad i dun re...   \n",
              "123722   i lived on a beach in a very lovely house exp...   \n",
              "\n",
              "                                      additional_comments  \\\n",
              "0                                                           \n",
              "1                                                           \n",
              "2       curious dream bl is one of the worst people i ...   \n",
              "3       p s the last song that i played before going t...   \n",
              "4                                                morning    \n",
              "...                                                   ...   \n",
              "123718   omg if this is precognitive i m killing someone    \n",
              "123719                                                      \n",
              "123720                  do not know where this came from    \n",
              "123721  well elavators symbloize rising up or down on ...   \n",
              "123722                                                      \n",
              "\n",
              "                                               themes  \\\n",
              "0                                           friendly    \n",
              "1                                   failure friendly    \n",
              "2       music action success failure health friendly    \n",
              "3                                          music fun    \n",
              "4                                          nightmare    \n",
              "...                                               ...   \n",
              "123718                                                  \n",
              "123719                                                  \n",
              "123720                                      violence    \n",
              "123721                            nightmare violence    \n",
              "123722                                                  \n",
              "\n",
              "                                                 settings  \\\n",
              "0                 town city indoors distorted unfamiliar    \n",
              "1                   indoors distorted familiar ambiguous    \n",
              "2       outdoors indoors distorted familiar unfamiliar...   \n",
              "3                                        school outdoors    \n",
              "4                                  mall outdoors indoors    \n",
              "...                                                   ...   \n",
              "123718                                            school    \n",
              "123719                                            school    \n",
              "123720                                                      \n",
              "123721                                                      \n",
              "123722                                              home    \n",
              "\n",
              "                                          characters  \\\n",
              "0                                  friend colleague    \n",
              "1                              colleague unfamiliar    \n",
              "2       other relative s friend stranger unfamiliar    \n",
              "3                                 colleague teacher    \n",
              "4                   child other relative s stranger    \n",
              "...                                              ...   \n",
              "123718                      other relative s friend    \n",
              "123719                                       friend    \n",
              "123720                               friend animals    \n",
              "123721                             other relative s    \n",
              "123722                                       friend    \n",
              "\n",
              "                                     emotions  \\\n",
              "0                                emotionless    \n",
              "1                                emotionless    \n",
              "2                     worry relaxed peaceful    \n",
              "3                 fear dread happiness shock    \n",
              "4       sadness worry fear dread emotionless    \n",
              "...                                       ...   \n",
              "123718            sadness fear dread anxiety    \n",
              "123719                             confusion    \n",
              "123720                             confusion    \n",
              "123721                              peaceful    \n",
              "123722                        worry peaceful    \n",
              "\n",
              "                                               activities  \n",
              "0               physical thinking visual location change   \n",
              "1               thinking visual movement location change   \n",
              "2       auditory physical thinking visual movement pro...  \n",
              "3       auditory thinking visual movement expressive c...  \n",
              "4       auditory physical thinking visual movement sea...  \n",
              "...                                                   ...  \n",
              "123718                                                     \n",
              "123719                                         searching   \n",
              "123720                                         searching   \n",
              "123721                                                     \n",
              "123722                                                     \n",
              "\n",
              "[123723 rows x 15 columns]"
            ],
            "text/html": [
              "\n",
              "  <div id=\"df-b67e7642-3b7c-4090-b122-73716750676f\">\n",
              "    <div class=\"colab-df-container\">\n",
              "      <div>\n",
              "<style scoped>\n",
              "    .dataframe tbody tr th:only-of-type {\n",
              "        vertical-align: middle;\n",
              "    }\n",
              "\n",
              "    .dataframe tbody tr th {\n",
              "        vertical-align: top;\n",
              "    }\n",
              "\n",
              "    .dataframe thead th {\n",
              "        text-align: right;\n",
              "    }\n",
              "</style>\n",
              "<table border=\"1\" class=\"dataframe\">\n",
              "  <thead>\n",
              "    <tr style=\"text-align: right;\">\n",
              "      <th></th>\n",
              "      <th>cohesion</th>\n",
              "      <th>intent</th>\n",
              "      <th>lucidity</th>\n",
              "      <th>raicesl</th>\n",
              "      <th>rating</th>\n",
              "      <th>technique</th>\n",
              "      <th>url</th>\n",
              "      <th>user</th>\n",
              "      <th>dream</th>\n",
              "      <th>additional_comments</th>\n",
              "      <th>themes</th>\n",
              "      <th>settings</th>\n",
              "      <th>characters</th>\n",
              "      <th>emotions</th>\n",
              "      <th>activities</th>\n",
              "    </tr>\n",
              "  </thead>\n",
              "  <tbody>\n",
              "    <tr>\n",
              "      <th>0</th>\n",
              "      <td>2.0</td>\n",
              "      <td>-1</td>\n",
              "      <td>-1.00</td>\n",
              "      <td>[i, be, on, the, ground, floor, of, a, dorm, b...</td>\n",
              "      <td>3.0</td>\n",
              "      <td>-1</td>\n",
              "      <td>http://www.dreamjournal.net/journal/dream/drea...</td>\n",
              "      <td>haux</td>\n",
              "      <td>i was on the ground floor of a dorm building ...</td>\n",
              "      <td></td>\n",
              "      <td>friendly</td>\n",
              "      <td>town city indoors distorted unfamiliar</td>\n",
              "      <td>friend colleague</td>\n",
              "      <td>emotionless</td>\n",
              "      <td>physical thinking visual location change</td>\n",
              "    </tr>\n",
              "    <tr>\n",
              "      <th>1</th>\n",
              "      <td>4.0</td>\n",
              "      <td>-1</td>\n",
              "      <td>-1.00</td>\n",
              "      <td>[i, be, leave, a, job, after, a, shift, have, ...</td>\n",
              "      <td>2.0</td>\n",
              "      <td>-1</td>\n",
              "      <td>http://www.dreamjournal.net/journal/dream/drea...</td>\n",
              "      <td>haux</td>\n",
              "      <td>i was leaving a job after a shift had ended i...</td>\n",
              "      <td></td>\n",
              "      <td>failure friendly</td>\n",
              "      <td>indoors distorted familiar ambiguous</td>\n",
              "      <td>colleague unfamiliar</td>\n",
              "      <td>emotionless</td>\n",
              "      <td>thinking visual movement location change</td>\n",
              "    </tr>\n",
              "    <tr>\n",
              "      <th>2</th>\n",
              "      <td>3.0</td>\n",
              "      <td>-1</td>\n",
              "      <td>-1.00</td>\n",
              "      <td>[twilight, my, present, home, i, be, leave, th...</td>\n",
              "      <td>3.0</td>\n",
              "      <td>-1</td>\n",
              "      <td>http://www.dreamjournal.net/journal/dream/drea...</td>\n",
              "      <td>PearlDiver</td>\n",
              "      <td>twilight my present home i am leaving the hou...</td>\n",
              "      <td>curious dream bl is one of the worst people i ...</td>\n",
              "      <td>music action success failure health friendly</td>\n",
              "      <td>outdoors indoors distorted familiar unfamiliar...</td>\n",
              "      <td>other relative s friend stranger unfamiliar</td>\n",
              "      <td>worry relaxed peaceful</td>\n",
              "      <td>auditory physical thinking visual movement pro...</td>\n",
              "    </tr>\n",
              "    <tr>\n",
              "      <th>3</th>\n",
              "      <td>5.0</td>\n",
              "      <td>-1</td>\n",
              "      <td>-1.00</td>\n",
              "      <td>[when, your, favourite, song, be, announce, in...</td>\n",
              "      <td>2.0</td>\n",
              "      <td>-1</td>\n",
              "      <td>http://www.dreamjournal.net/journal/dream/drea...</td>\n",
              "      <td>LucidDreamer777</td>\n",
              "      <td>when your favourite song is announced in your...</td>\n",
              "      <td>p s the last song that i played before going t...</td>\n",
              "      <td>music fun</td>\n",
              "      <td>school outdoors</td>\n",
              "      <td>colleague teacher</td>\n",
              "      <td>fear dread happiness shock</td>\n",
              "      <td>auditory thinking visual movement expressive c...</td>\n",
              "    </tr>\n",
              "    <tr>\n",
              "      <th>4</th>\n",
              "      <td>4.0</td>\n",
              "      <td>red</td>\n",
              "      <td>1.25</td>\n",
              "      <td>[serve, customer, be, in, a, mall, style, like...</td>\n",
              "      <td>2.0</td>\n",
              "      <td>-1</td>\n",
              "      <td>http://www.dreamjournal.net/journal/dream/drea...</td>\n",
              "      <td>LucidDreamer777</td>\n",
              "      <td>serving customers being in a mall styled like...</td>\n",
              "      <td>morning</td>\n",
              "      <td>nightmare</td>\n",
              "      <td>mall outdoors indoors</td>\n",
              "      <td>child other relative s stranger</td>\n",
              "      <td>sadness worry fear dread emotionless</td>\n",
              "      <td>auditory physical thinking visual movement sea...</td>\n",
              "    </tr>\n",
              "    <tr>\n",
              "      <th>...</th>\n",
              "      <td>...</td>\n",
              "      <td>...</td>\n",
              "      <td>...</td>\n",
              "      <td>...</td>\n",
              "      <td>...</td>\n",
              "      <td>...</td>\n",
              "      <td>...</td>\n",
              "      <td>...</td>\n",
              "      <td>...</td>\n",
              "      <td>...</td>\n",
              "      <td>...</td>\n",
              "      <td>...</td>\n",
              "      <td>...</td>\n",
              "      <td>...</td>\n",
              "      <td>...</td>\n",
              "    </tr>\n",
              "    <tr>\n",
              "      <th>123718</th>\n",
              "      <td>5.0</td>\n",
              "      <td>-1</td>\n",
              "      <td>-1.00</td>\n",
              "      <td>[first, off, ali, do, not, have, the, father, ...</td>\n",
              "      <td>-1.0</td>\n",
              "      <td>-1</td>\n",
              "      <td>http://www.dreamjournal.net/journal/dream/drea...</td>\n",
              "      <td>MtDewWolf</td>\n",
              "      <td>first off ali did not have the father she doe...</td>\n",
              "      <td>omg if this is precognitive i m killing someone</td>\n",
              "      <td></td>\n",
              "      <td>school</td>\n",
              "      <td>other relative s friend</td>\n",
              "      <td>sadness fear dread anxiety</td>\n",
              "      <td></td>\n",
              "    </tr>\n",
              "    <tr>\n",
              "      <th>123719</th>\n",
              "      <td>4.0</td>\n",
              "      <td>-1</td>\n",
              "      <td>-1.00</td>\n",
              "      <td>[ali, ben, dan, and, i, be, all, in, the, clas...</td>\n",
              "      <td>-1.0</td>\n",
              "      <td>-1</td>\n",
              "      <td>http://www.dreamjournal.net/journal/dream/drea...</td>\n",
              "      <td>MtDewWolf</td>\n",
              "      <td>ali ben dan and i were all in the classroom a...</td>\n",
              "      <td></td>\n",
              "      <td></td>\n",
              "      <td>school</td>\n",
              "      <td>friend</td>\n",
              "      <td>confusion</td>\n",
              "      <td>searching</td>\n",
              "    </tr>\n",
              "    <tr>\n",
              "      <th>123720</th>\n",
              "      <td>3.0</td>\n",
              "      <td>-1</td>\n",
              "      <td>-1.00</td>\n",
              "      <td>[i, be, in, some, sort, of, a, strange, arena,...</td>\n",
              "      <td>-1.0</td>\n",
              "      <td>-1</td>\n",
              "      <td>http://www.dreamjournal.net/journal/dream/drea...</td>\n",
              "      <td>Elemental_angel</td>\n",
              "      <td>i was in some sort of a strange arena facing ...</td>\n",
              "      <td>do not know where this came from</td>\n",
              "      <td>violence</td>\n",
              "      <td></td>\n",
              "      <td>friend animals</td>\n",
              "      <td>confusion</td>\n",
              "      <td>searching</td>\n",
              "    </tr>\n",
              "    <tr>\n",
              "      <th>123721</th>\n",
              "      <td>3.0</td>\n",
              "      <td>-1</td>\n",
              "      <td>-1.00</td>\n",
              "      <td>[thois, be, suuuch, a, cool, dream, too, bad, ...</td>\n",
              "      <td>-1.0</td>\n",
              "      <td>-1</td>\n",
              "      <td>http://www.dreamjournal.net/journal/dream/drea...</td>\n",
              "      <td>MyBounciness</td>\n",
              "      <td>thois is suuuch a cool dream too bad i dun re...</td>\n",
              "      <td>well elavators symbloize rising up or down on ...</td>\n",
              "      <td>nightmare violence</td>\n",
              "      <td></td>\n",
              "      <td>other relative s</td>\n",
              "      <td>peaceful</td>\n",
              "      <td></td>\n",
              "    </tr>\n",
              "    <tr>\n",
              "      <th>123722</th>\n",
              "      <td>4.0</td>\n",
              "      <td>red</td>\n",
              "      <td>2.50</td>\n",
              "      <td>[i, live, on, a, beach, in, a, very, lovely, h...</td>\n",
              "      <td>-1.0</td>\n",
              "      <td>-1</td>\n",
              "      <td>http://www.dreamjournal.net/journal/dream/drea...</td>\n",
              "      <td>toric13</td>\n",
              "      <td>i lived on a beach in a very lovely house exp...</td>\n",
              "      <td></td>\n",
              "      <td></td>\n",
              "      <td>home</td>\n",
              "      <td>friend</td>\n",
              "      <td>worry peaceful</td>\n",
              "      <td></td>\n",
              "    </tr>\n",
              "  </tbody>\n",
              "</table>\n",
              "<p>123723 rows × 15 columns</p>\n",
              "</div>\n",
              "      <button class=\"colab-df-convert\" onclick=\"convertToInteractive('df-b67e7642-3b7c-4090-b122-73716750676f')\"\n",
              "              title=\"Convert this dataframe to an interactive table.\"\n",
              "              style=\"display:none;\">\n",
              "        \n",
              "  <svg xmlns=\"http://www.w3.org/2000/svg\" height=\"24px\"viewBox=\"0 0 24 24\"\n",
              "       width=\"24px\">\n",
              "    <path d=\"M0 0h24v24H0V0z\" fill=\"none\"/>\n",
              "    <path d=\"M18.56 5.44l.94 2.06.94-2.06 2.06-.94-2.06-.94-.94-2.06-.94 2.06-2.06.94zm-11 1L8.5 8.5l.94-2.06 2.06-.94-2.06-.94L8.5 2.5l-.94 2.06-2.06.94zm10 10l.94 2.06.94-2.06 2.06-.94-2.06-.94-.94-2.06-.94 2.06-2.06.94z\"/><path d=\"M17.41 7.96l-1.37-1.37c-.4-.4-.92-.59-1.43-.59-.52 0-1.04.2-1.43.59L10.3 9.45l-7.72 7.72c-.78.78-.78 2.05 0 2.83L4 21.41c.39.39.9.59 1.41.59.51 0 1.02-.2 1.41-.59l7.78-7.78 2.81-2.81c.8-.78.8-2.07 0-2.86zM5.41 20L4 18.59l7.72-7.72 1.47 1.35L5.41 20z\"/>\n",
              "  </svg>\n",
              "      </button>\n",
              "      \n",
              "  <style>\n",
              "    .colab-df-container {\n",
              "      display:flex;\n",
              "      flex-wrap:wrap;\n",
              "      gap: 12px;\n",
              "    }\n",
              "\n",
              "    .colab-df-convert {\n",
              "      background-color: #E8F0FE;\n",
              "      border: none;\n",
              "      border-radius: 50%;\n",
              "      cursor: pointer;\n",
              "      display: none;\n",
              "      fill: #1967D2;\n",
              "      height: 32px;\n",
              "      padding: 0 0 0 0;\n",
              "      width: 32px;\n",
              "    }\n",
              "\n",
              "    .colab-df-convert:hover {\n",
              "      background-color: #E2EBFA;\n",
              "      box-shadow: 0px 1px 2px rgba(60, 64, 67, 0.3), 0px 1px 3px 1px rgba(60, 64, 67, 0.15);\n",
              "      fill: #174EA6;\n",
              "    }\n",
              "\n",
              "    [theme=dark] .colab-df-convert {\n",
              "      background-color: #3B4455;\n",
              "      fill: #D2E3FC;\n",
              "    }\n",
              "\n",
              "    [theme=dark] .colab-df-convert:hover {\n",
              "      background-color: #434B5C;\n",
              "      box-shadow: 0px 1px 3px 1px rgba(0, 0, 0, 0.15);\n",
              "      filter: drop-shadow(0px 1px 2px rgba(0, 0, 0, 0.3));\n",
              "      fill: #FFFFFF;\n",
              "    }\n",
              "  </style>\n",
              "\n",
              "      <script>\n",
              "        const buttonEl =\n",
              "          document.querySelector('#df-b67e7642-3b7c-4090-b122-73716750676f button.colab-df-convert');\n",
              "        buttonEl.style.display =\n",
              "          google.colab.kernel.accessAllowed ? 'block' : 'none';\n",
              "\n",
              "        async function convertToInteractive(key) {\n",
              "          const element = document.querySelector('#df-b67e7642-3b7c-4090-b122-73716750676f');\n",
              "          const dataTable =\n",
              "            await google.colab.kernel.invokeFunction('convertToInteractive',\n",
              "                                                     [key], {});\n",
              "          if (!dataTable) return;\n",
              "\n",
              "          const docLinkHtml = 'Like what you see? Visit the ' +\n",
              "            '<a target=\"_blank\" href=https://colab.research.google.com/notebooks/data_table.ipynb>data table notebook</a>'\n",
              "            + ' to learn more about interactive tables.';\n",
              "          element.innerHTML = '';\n",
              "          dataTable['output_type'] = 'display_data';\n",
              "          await google.colab.output.renderOutput(dataTable, element);\n",
              "          const docLink = document.createElement('div');\n",
              "          docLink.innerHTML = docLinkHtml;\n",
              "          element.appendChild(docLink);\n",
              "        }\n",
              "      </script>\n",
              "    </div>\n",
              "  </div>\n",
              "  "
            ]
          },
          "metadata": {},
          "execution_count": 5
        }
      ],
      "source": [
        "for i in range(2,14):\n",
        "  path = directory + str(i) + '.pickle'\n",
        "  df1 = pd.read_pickle(path)\n",
        "  df = df.append(df1)\n",
        "dfRank = df\n",
        "df\n"
      ]
    },
    {
      "cell_type": "code",
      "execution_count": null,
      "metadata": {
        "id": "gHOkoltntvxZ"
      },
      "outputs": [],
      "source": [
        "df[\"raices\"] = df[\"raicesl\"]\n",
        "df[\"text\"] = df[\"dream\"]\n",
        "\n",
        "#Junta y arma un solo \"texto\" con las raíces\n",
        "df['raices_unidas'] = df['raices'].apply(\" \".join)"
      ]
    },
    {
      "cell_type": "markdown",
      "metadata": {
        "id": "2YH8ySeQx8x6"
      },
      "source": [
        "Es casi igual que antes, solo que con 13 archivos limp#.pickle  \n",
        "También cambiaron las columnas:  \n",
        "['cohesion', 'intent', 'lucidity', 'raicesl', 'rating', 'technique',\n",
        "       'url', 'user', 'dream', 'additional_comments', 'themes', 'settings',\n",
        "       'characters', 'emotions', 'activities']\n",
        "\n",
        "---\n",
        "\n"
      ]
    },
    {
      "cell_type": "markdown",
      "metadata": {
        "id": "vuxmk0zpt5Lu"
      },
      "source": [
        "#1. Limpieza previa"
      ]
    },
    {
      "cell_type": "code",
      "execution_count": null,
      "metadata": {
        "id": "GfCbjX9z8G2T",
        "colab": {
          "base_uri": "https://localhost:8080/"
        },
        "outputId": "765ba655-c227-444b-811e-36eb686849c7"
      },
      "outputs": [
        {
          "output_type": "stream",
          "name": "stdout",
          "text": [
            "['hello', 'welcome', 'to', 'the', 'bieber', 'dream', 'i', 'm', 'no', 'hater', 'or', 'lover', 'so', 'i', 'be', 'in', 'this', 'strange', 'house', 'i', 'don', 't', 'know', 'of', 'and', 'a', 'a', 'concert', 'go', 'on', 'and', 'all', 'these', 'hobo', 'star', 'at', 'me', 'like', 'i', 'm', 'a', 'ball', 'of', 'cheese', 'wait', 'any', 'self', 'concious', 'in', 'this', 'one', 'then', 'he', 'walk', 'out', 'gasp', 'lover', 'faint', 'and', 'hater', 'shoot', 'him', 'in', 'the', 'head', 'jk', 'actually', 'he', 'be', 'quite', 'old', 'and', 'less', 'wimpy', 'look', 'and', 'amazingly', 'he', 'doesn', 't', 'have', 'that', 'kid', 'voice', 'and', 'hair', 'flip', 'thing', 'go', 'on', 'yeah', 'i', 'hate', 'to', 'admit', 'it', 'but', 'he', 'be', 'cute', 'so', 'i', 'felt', 'a', 'if', 'it', 'be', 'real', 'so', 'i', 'take', 'it', 'slow', 'i', 'be', 'just', 'talk', 'or', 'flirt', 'with', 'him', 'and', 'he', 'let', 'me', 'in', 'his', 'limo', 'and', 'jeesh', 'this', 'quite', 'embarassing', 'because', 'i', 'm', 'not', 'even', 'fond', 'of', 'him', 'anyway', 'i', 'be', 'lead', 'in', 'his', 'house', 'and', 'it', 'be', 'actually', 'quite', 'normal', 'no', 'scream', 'little', 'girls', 'no', 'paris', 'or', 'whatever', 'nothing', 'really', 'famous', 'or', 'huge', 'or', 'expensive', 'so', 'i', 'be', 'in', 'his', 'room', 'and', 'i', 'can', 't', 'exactly', 'remember', 'everything', 'but', 'it', 'be', 'quite', 'normal', 'too', 'at', 'that', 'time', 'i', 'actually', 'want', 'to', 'kiss', 'him', 'i', 'get', 'ready', 'about', 'to', 'do', 'it', 'then', 'my', 'dog', 'whine', 'for', 'her', 'to', 'go', 'potty', 'crap']\n",
            "['buzz', 'and', 'jessie', 'from', 'the', 'toy', 'story', 'movie', 'be', 'this', 'close', 'to', 'kiss', 'then', 'i', 'wake', 'up']\n",
            "http://www.dreamjournal.net/journal/dream/dream_id/155289/username/Dragon12\n"
          ]
        }
      ],
      "source": [
        "#Hay algunos repetidos...\n",
        "print(df[\"raices\"][35427])\n",
        "print(df[\"raices\"][35428])\n",
        "print(df[\"url\"][35427])"
      ]
    },
    {
      "cell_type": "code",
      "execution_count": null,
      "metadata": {
        "id": "nnwNfoS0t_H3",
        "colab": {
          "base_uri": "https://localhost:8080/",
          "height": 1000
        },
        "outputId": "10c3f851-6414-45ad-a81e-39aa6b809656"
      },
      "outputs": [
        {
          "output_type": "execute_result",
          "data": {
            "text/plain": [
              "        cohesion intent  lucidity  \\\n",
              "0            2.0     -1     -1.00   \n",
              "1            4.0     -1     -1.00   \n",
              "2            3.0     -1     -1.00   \n",
              "3            5.0     -1     -1.00   \n",
              "4            4.0    red      1.25   \n",
              "...          ...    ...       ...   \n",
              "123718       5.0     -1     -1.00   \n",
              "123719       4.0     -1     -1.00   \n",
              "123720       3.0     -1     -1.00   \n",
              "123721       3.0     -1     -1.00   \n",
              "123722       4.0    red      2.50   \n",
              "\n",
              "                                                  raicesl  rating technique  \\\n",
              "0       [i, be, on, the, ground, floor, of, a, dorm, b...     3.0        -1   \n",
              "1       [i, be, leave, a, job, after, a, shift, have, ...     2.0        -1   \n",
              "2       [twilight, my, present, home, i, be, leave, th...     3.0        -1   \n",
              "3       [when, your, favourite, song, be, announce, in...     2.0        -1   \n",
              "4       [serve, customer, be, in, a, mall, style, like...     2.0        -1   \n",
              "...                                                   ...     ...       ...   \n",
              "123718  [first, off, ali, do, not, have, the, father, ...    -1.0        -1   \n",
              "123719  [ali, ben, dan, and, i, be, all, in, the, clas...    -1.0        -1   \n",
              "123720  [i, be, in, some, sort, of, a, strange, arena,...    -1.0        -1   \n",
              "123721  [thois, be, suuuch, a, cool, dream, too, bad, ...    -1.0        -1   \n",
              "123722  [i, live, on, a, beach, in, a, very, lovely, h...    -1.0        -1   \n",
              "\n",
              "                                                      url             user  \\\n",
              "0       http://www.dreamjournal.net/journal/dream/drea...             haux   \n",
              "1       http://www.dreamjournal.net/journal/dream/drea...             haux   \n",
              "2       http://www.dreamjournal.net/journal/dream/drea...       PearlDiver   \n",
              "3       http://www.dreamjournal.net/journal/dream/drea...  LucidDreamer777   \n",
              "4       http://www.dreamjournal.net/journal/dream/drea...  LucidDreamer777   \n",
              "...                                                   ...              ...   \n",
              "123718  http://www.dreamjournal.net/journal/dream/drea...        MtDewWolf   \n",
              "123719  http://www.dreamjournal.net/journal/dream/drea...        MtDewWolf   \n",
              "123720  http://www.dreamjournal.net/journal/dream/drea...  Elemental_angel   \n",
              "123721  http://www.dreamjournal.net/journal/dream/drea...     MyBounciness   \n",
              "123722  http://www.dreamjournal.net/journal/dream/drea...          toric13   \n",
              "\n",
              "                                                    dream  \\\n",
              "0        i was on the ground floor of a dorm building ...   \n",
              "1        i was leaving a job after a shift had ended i...   \n",
              "2        twilight my present home i am leaving the hou...   \n",
              "3        when your favourite song is announced in your...   \n",
              "4        serving customers being in a mall styled like...   \n",
              "...                                                   ...   \n",
              "123718   first off ali did not have the father she doe...   \n",
              "123719   ali ben dan and i were all in the classroom a...   \n",
              "123720   i was in some sort of a strange arena facing ...   \n",
              "123721   thois is suuuch a cool dream too bad i dun re...   \n",
              "123722   i lived on a beach in a very lovely house exp...   \n",
              "\n",
              "                                      additional_comments  \\\n",
              "0                                                           \n",
              "1                                                           \n",
              "2       curious dream bl is one of the worst people i ...   \n",
              "3       p s the last song that i played before going t...   \n",
              "4                                                morning    \n",
              "...                                                   ...   \n",
              "123718   omg if this is precognitive i m killing someone    \n",
              "123719                                                      \n",
              "123720                  do not know where this came from    \n",
              "123721  well elavators symbloize rising up or down on ...   \n",
              "123722                                                      \n",
              "\n",
              "                                               themes  \\\n",
              "0                                           friendly    \n",
              "1                                   failure friendly    \n",
              "2       music action success failure health friendly    \n",
              "3                                          music fun    \n",
              "4                                          nightmare    \n",
              "...                                               ...   \n",
              "123718                                                  \n",
              "123719                                                  \n",
              "123720                                      violence    \n",
              "123721                            nightmare violence    \n",
              "123722                                                  \n",
              "\n",
              "                                                 settings  \\\n",
              "0                 town city indoors distorted unfamiliar    \n",
              "1                   indoors distorted familiar ambiguous    \n",
              "2       outdoors indoors distorted familiar unfamiliar...   \n",
              "3                                        school outdoors    \n",
              "4                                  mall outdoors indoors    \n",
              "...                                                   ...   \n",
              "123718                                            school    \n",
              "123719                                            school    \n",
              "123720                                                      \n",
              "123721                                                      \n",
              "123722                                              home    \n",
              "\n",
              "                                          characters  \\\n",
              "0                                  friend colleague    \n",
              "1                              colleague unfamiliar    \n",
              "2       other relative s friend stranger unfamiliar    \n",
              "3                                 colleague teacher    \n",
              "4                   child other relative s stranger    \n",
              "...                                              ...   \n",
              "123718                      other relative s friend    \n",
              "123719                                       friend    \n",
              "123720                               friend animals    \n",
              "123721                             other relative s    \n",
              "123722                                       friend    \n",
              "\n",
              "                                     emotions  \\\n",
              "0                                emotionless    \n",
              "1                                emotionless    \n",
              "2                     worry relaxed peaceful    \n",
              "3                 fear dread happiness shock    \n",
              "4       sadness worry fear dread emotionless    \n",
              "...                                       ...   \n",
              "123718            sadness fear dread anxiety    \n",
              "123719                             confusion    \n",
              "123720                             confusion    \n",
              "123721                              peaceful    \n",
              "123722                        worry peaceful    \n",
              "\n",
              "                                               activities  \\\n",
              "0               physical thinking visual location change    \n",
              "1               thinking visual movement location change    \n",
              "2       auditory physical thinking visual movement pro...   \n",
              "3       auditory thinking visual movement expressive c...   \n",
              "4       auditory physical thinking visual movement sea...   \n",
              "...                                                   ...   \n",
              "123718                                                      \n",
              "123719                                         searching    \n",
              "123720                                         searching    \n",
              "123721                                                      \n",
              "123722                                                      \n",
              "\n",
              "                                                   raices  \\\n",
              "0       [i, be, on, the, ground, floor, of, a, dorm, b...   \n",
              "1       [i, be, leave, a, job, after, a, shift, have, ...   \n",
              "2       [twilight, my, present, home, i, be, leave, th...   \n",
              "3       [when, your, favourite, song, be, announce, in...   \n",
              "4       [serve, customer, be, in, a, mall, style, like...   \n",
              "...                                                   ...   \n",
              "123718  [first, off, ali, do, not, have, the, father, ...   \n",
              "123719  [ali, ben, dan, and, i, be, all, in, the, clas...   \n",
              "123720  [i, be, in, some, sort, of, a, strange, arena,...   \n",
              "123721  [thois, be, suuuch, a, cool, dream, too, bad, ...   \n",
              "123722  [i, live, on, a, beach, in, a, very, lovely, h...   \n",
              "\n",
              "                                                     text  \\\n",
              "0        i was on the ground floor of a dorm building ...   \n",
              "1        i was leaving a job after a shift had ended i...   \n",
              "2        twilight my present home i am leaving the hou...   \n",
              "3        when your favourite song is announced in your...   \n",
              "4        serving customers being in a mall styled like...   \n",
              "...                                                   ...   \n",
              "123718   first off ali did not have the father she doe...   \n",
              "123719   ali ben dan and i were all in the classroom a...   \n",
              "123720   i was in some sort of a strange arena facing ...   \n",
              "123721   thois is suuuch a cool dream too bad i dun re...   \n",
              "123722   i lived on a beach in a very lovely house exp...   \n",
              "\n",
              "                                            raices_unidas  \n",
              "0       i be on the ground floor of a dorm building th...  \n",
              "1       i be leave a job after a shift have end it be ...  \n",
              "2       twilight my present home i be leave the house ...  \n",
              "3       when your favourite song be announce in your d...  \n",
              "4       serve customer be in a mall style like an anci...  \n",
              "...                                                   ...  \n",
              "123718  first off ali do not have the father she do no...  \n",
              "123719  ali ben dan and i be all in the classroom acro...  \n",
              "123720  i be in some sort of a strange arena face a bl...  \n",
              "123721  thois be suuuch a cool dream too bad i dun rem...  \n",
              "123722  i live on a beach in a very lovely house expen...  \n",
              "\n",
              "[123723 rows x 18 columns]"
            ],
            "text/html": [
              "\n",
              "  <div id=\"df-ec484399-9c5a-46cd-9dab-1f051e27a30b\">\n",
              "    <div class=\"colab-df-container\">\n",
              "      <div>\n",
              "<style scoped>\n",
              "    .dataframe tbody tr th:only-of-type {\n",
              "        vertical-align: middle;\n",
              "    }\n",
              "\n",
              "    .dataframe tbody tr th {\n",
              "        vertical-align: top;\n",
              "    }\n",
              "\n",
              "    .dataframe thead th {\n",
              "        text-align: right;\n",
              "    }\n",
              "</style>\n",
              "<table border=\"1\" class=\"dataframe\">\n",
              "  <thead>\n",
              "    <tr style=\"text-align: right;\">\n",
              "      <th></th>\n",
              "      <th>cohesion</th>\n",
              "      <th>intent</th>\n",
              "      <th>lucidity</th>\n",
              "      <th>raicesl</th>\n",
              "      <th>rating</th>\n",
              "      <th>technique</th>\n",
              "      <th>url</th>\n",
              "      <th>user</th>\n",
              "      <th>dream</th>\n",
              "      <th>additional_comments</th>\n",
              "      <th>themes</th>\n",
              "      <th>settings</th>\n",
              "      <th>characters</th>\n",
              "      <th>emotions</th>\n",
              "      <th>activities</th>\n",
              "      <th>raices</th>\n",
              "      <th>text</th>\n",
              "      <th>raices_unidas</th>\n",
              "    </tr>\n",
              "  </thead>\n",
              "  <tbody>\n",
              "    <tr>\n",
              "      <th>0</th>\n",
              "      <td>2.0</td>\n",
              "      <td>-1</td>\n",
              "      <td>-1.00</td>\n",
              "      <td>[i, be, on, the, ground, floor, of, a, dorm, b...</td>\n",
              "      <td>3.0</td>\n",
              "      <td>-1</td>\n",
              "      <td>http://www.dreamjournal.net/journal/dream/drea...</td>\n",
              "      <td>haux</td>\n",
              "      <td>i was on the ground floor of a dorm building ...</td>\n",
              "      <td></td>\n",
              "      <td>friendly</td>\n",
              "      <td>town city indoors distorted unfamiliar</td>\n",
              "      <td>friend colleague</td>\n",
              "      <td>emotionless</td>\n",
              "      <td>physical thinking visual location change</td>\n",
              "      <td>[i, be, on, the, ground, floor, of, a, dorm, b...</td>\n",
              "      <td>i was on the ground floor of a dorm building ...</td>\n",
              "      <td>i be on the ground floor of a dorm building th...</td>\n",
              "    </tr>\n",
              "    <tr>\n",
              "      <th>1</th>\n",
              "      <td>4.0</td>\n",
              "      <td>-1</td>\n",
              "      <td>-1.00</td>\n",
              "      <td>[i, be, leave, a, job, after, a, shift, have, ...</td>\n",
              "      <td>2.0</td>\n",
              "      <td>-1</td>\n",
              "      <td>http://www.dreamjournal.net/journal/dream/drea...</td>\n",
              "      <td>haux</td>\n",
              "      <td>i was leaving a job after a shift had ended i...</td>\n",
              "      <td></td>\n",
              "      <td>failure friendly</td>\n",
              "      <td>indoors distorted familiar ambiguous</td>\n",
              "      <td>colleague unfamiliar</td>\n",
              "      <td>emotionless</td>\n",
              "      <td>thinking visual movement location change</td>\n",
              "      <td>[i, be, leave, a, job, after, a, shift, have, ...</td>\n",
              "      <td>i was leaving a job after a shift had ended i...</td>\n",
              "      <td>i be leave a job after a shift have end it be ...</td>\n",
              "    </tr>\n",
              "    <tr>\n",
              "      <th>2</th>\n",
              "      <td>3.0</td>\n",
              "      <td>-1</td>\n",
              "      <td>-1.00</td>\n",
              "      <td>[twilight, my, present, home, i, be, leave, th...</td>\n",
              "      <td>3.0</td>\n",
              "      <td>-1</td>\n",
              "      <td>http://www.dreamjournal.net/journal/dream/drea...</td>\n",
              "      <td>PearlDiver</td>\n",
              "      <td>twilight my present home i am leaving the hou...</td>\n",
              "      <td>curious dream bl is one of the worst people i ...</td>\n",
              "      <td>music action success failure health friendly</td>\n",
              "      <td>outdoors indoors distorted familiar unfamiliar...</td>\n",
              "      <td>other relative s friend stranger unfamiliar</td>\n",
              "      <td>worry relaxed peaceful</td>\n",
              "      <td>auditory physical thinking visual movement pro...</td>\n",
              "      <td>[twilight, my, present, home, i, be, leave, th...</td>\n",
              "      <td>twilight my present home i am leaving the hou...</td>\n",
              "      <td>twilight my present home i be leave the house ...</td>\n",
              "    </tr>\n",
              "    <tr>\n",
              "      <th>3</th>\n",
              "      <td>5.0</td>\n",
              "      <td>-1</td>\n",
              "      <td>-1.00</td>\n",
              "      <td>[when, your, favourite, song, be, announce, in...</td>\n",
              "      <td>2.0</td>\n",
              "      <td>-1</td>\n",
              "      <td>http://www.dreamjournal.net/journal/dream/drea...</td>\n",
              "      <td>LucidDreamer777</td>\n",
              "      <td>when your favourite song is announced in your...</td>\n",
              "      <td>p s the last song that i played before going t...</td>\n",
              "      <td>music fun</td>\n",
              "      <td>school outdoors</td>\n",
              "      <td>colleague teacher</td>\n",
              "      <td>fear dread happiness shock</td>\n",
              "      <td>auditory thinking visual movement expressive c...</td>\n",
              "      <td>[when, your, favourite, song, be, announce, in...</td>\n",
              "      <td>when your favourite song is announced in your...</td>\n",
              "      <td>when your favourite song be announce in your d...</td>\n",
              "    </tr>\n",
              "    <tr>\n",
              "      <th>4</th>\n",
              "      <td>4.0</td>\n",
              "      <td>red</td>\n",
              "      <td>1.25</td>\n",
              "      <td>[serve, customer, be, in, a, mall, style, like...</td>\n",
              "      <td>2.0</td>\n",
              "      <td>-1</td>\n",
              "      <td>http://www.dreamjournal.net/journal/dream/drea...</td>\n",
              "      <td>LucidDreamer777</td>\n",
              "      <td>serving customers being in a mall styled like...</td>\n",
              "      <td>morning</td>\n",
              "      <td>nightmare</td>\n",
              "      <td>mall outdoors indoors</td>\n",
              "      <td>child other relative s stranger</td>\n",
              "      <td>sadness worry fear dread emotionless</td>\n",
              "      <td>auditory physical thinking visual movement sea...</td>\n",
              "      <td>[serve, customer, be, in, a, mall, style, like...</td>\n",
              "      <td>serving customers being in a mall styled like...</td>\n",
              "      <td>serve customer be in a mall style like an anci...</td>\n",
              "    </tr>\n",
              "    <tr>\n",
              "      <th>...</th>\n",
              "      <td>...</td>\n",
              "      <td>...</td>\n",
              "      <td>...</td>\n",
              "      <td>...</td>\n",
              "      <td>...</td>\n",
              "      <td>...</td>\n",
              "      <td>...</td>\n",
              "      <td>...</td>\n",
              "      <td>...</td>\n",
              "      <td>...</td>\n",
              "      <td>...</td>\n",
              "      <td>...</td>\n",
              "      <td>...</td>\n",
              "      <td>...</td>\n",
              "      <td>...</td>\n",
              "      <td>...</td>\n",
              "      <td>...</td>\n",
              "      <td>...</td>\n",
              "    </tr>\n",
              "    <tr>\n",
              "      <th>123718</th>\n",
              "      <td>5.0</td>\n",
              "      <td>-1</td>\n",
              "      <td>-1.00</td>\n",
              "      <td>[first, off, ali, do, not, have, the, father, ...</td>\n",
              "      <td>-1.0</td>\n",
              "      <td>-1</td>\n",
              "      <td>http://www.dreamjournal.net/journal/dream/drea...</td>\n",
              "      <td>MtDewWolf</td>\n",
              "      <td>first off ali did not have the father she doe...</td>\n",
              "      <td>omg if this is precognitive i m killing someone</td>\n",
              "      <td></td>\n",
              "      <td>school</td>\n",
              "      <td>other relative s friend</td>\n",
              "      <td>sadness fear dread anxiety</td>\n",
              "      <td></td>\n",
              "      <td>[first, off, ali, do, not, have, the, father, ...</td>\n",
              "      <td>first off ali did not have the father she doe...</td>\n",
              "      <td>first off ali do not have the father she do no...</td>\n",
              "    </tr>\n",
              "    <tr>\n",
              "      <th>123719</th>\n",
              "      <td>4.0</td>\n",
              "      <td>-1</td>\n",
              "      <td>-1.00</td>\n",
              "      <td>[ali, ben, dan, and, i, be, all, in, the, clas...</td>\n",
              "      <td>-1.0</td>\n",
              "      <td>-1</td>\n",
              "      <td>http://www.dreamjournal.net/journal/dream/drea...</td>\n",
              "      <td>MtDewWolf</td>\n",
              "      <td>ali ben dan and i were all in the classroom a...</td>\n",
              "      <td></td>\n",
              "      <td></td>\n",
              "      <td>school</td>\n",
              "      <td>friend</td>\n",
              "      <td>confusion</td>\n",
              "      <td>searching</td>\n",
              "      <td>[ali, ben, dan, and, i, be, all, in, the, clas...</td>\n",
              "      <td>ali ben dan and i were all in the classroom a...</td>\n",
              "      <td>ali ben dan and i be all in the classroom acro...</td>\n",
              "    </tr>\n",
              "    <tr>\n",
              "      <th>123720</th>\n",
              "      <td>3.0</td>\n",
              "      <td>-1</td>\n",
              "      <td>-1.00</td>\n",
              "      <td>[i, be, in, some, sort, of, a, strange, arena,...</td>\n",
              "      <td>-1.0</td>\n",
              "      <td>-1</td>\n",
              "      <td>http://www.dreamjournal.net/journal/dream/drea...</td>\n",
              "      <td>Elemental_angel</td>\n",
              "      <td>i was in some sort of a strange arena facing ...</td>\n",
              "      <td>do not know where this came from</td>\n",
              "      <td>violence</td>\n",
              "      <td></td>\n",
              "      <td>friend animals</td>\n",
              "      <td>confusion</td>\n",
              "      <td>searching</td>\n",
              "      <td>[i, be, in, some, sort, of, a, strange, arena,...</td>\n",
              "      <td>i was in some sort of a strange arena facing ...</td>\n",
              "      <td>i be in some sort of a strange arena face a bl...</td>\n",
              "    </tr>\n",
              "    <tr>\n",
              "      <th>123721</th>\n",
              "      <td>3.0</td>\n",
              "      <td>-1</td>\n",
              "      <td>-1.00</td>\n",
              "      <td>[thois, be, suuuch, a, cool, dream, too, bad, ...</td>\n",
              "      <td>-1.0</td>\n",
              "      <td>-1</td>\n",
              "      <td>http://www.dreamjournal.net/journal/dream/drea...</td>\n",
              "      <td>MyBounciness</td>\n",
              "      <td>thois is suuuch a cool dream too bad i dun re...</td>\n",
              "      <td>well elavators symbloize rising up or down on ...</td>\n",
              "      <td>nightmare violence</td>\n",
              "      <td></td>\n",
              "      <td>other relative s</td>\n",
              "      <td>peaceful</td>\n",
              "      <td></td>\n",
              "      <td>[thois, be, suuuch, a, cool, dream, too, bad, ...</td>\n",
              "      <td>thois is suuuch a cool dream too bad i dun re...</td>\n",
              "      <td>thois be suuuch a cool dream too bad i dun rem...</td>\n",
              "    </tr>\n",
              "    <tr>\n",
              "      <th>123722</th>\n",
              "      <td>4.0</td>\n",
              "      <td>red</td>\n",
              "      <td>2.50</td>\n",
              "      <td>[i, live, on, a, beach, in, a, very, lovely, h...</td>\n",
              "      <td>-1.0</td>\n",
              "      <td>-1</td>\n",
              "      <td>http://www.dreamjournal.net/journal/dream/drea...</td>\n",
              "      <td>toric13</td>\n",
              "      <td>i lived on a beach in a very lovely house exp...</td>\n",
              "      <td></td>\n",
              "      <td></td>\n",
              "      <td>home</td>\n",
              "      <td>friend</td>\n",
              "      <td>worry peaceful</td>\n",
              "      <td></td>\n",
              "      <td>[i, live, on, a, beach, in, a, very, lovely, h...</td>\n",
              "      <td>i lived on a beach in a very lovely house exp...</td>\n",
              "      <td>i live on a beach in a very lovely house expen...</td>\n",
              "    </tr>\n",
              "  </tbody>\n",
              "</table>\n",
              "<p>123723 rows × 18 columns</p>\n",
              "</div>\n",
              "      <button class=\"colab-df-convert\" onclick=\"convertToInteractive('df-ec484399-9c5a-46cd-9dab-1f051e27a30b')\"\n",
              "              title=\"Convert this dataframe to an interactive table.\"\n",
              "              style=\"display:none;\">\n",
              "        \n",
              "  <svg xmlns=\"http://www.w3.org/2000/svg\" height=\"24px\"viewBox=\"0 0 24 24\"\n",
              "       width=\"24px\">\n",
              "    <path d=\"M0 0h24v24H0V0z\" fill=\"none\"/>\n",
              "    <path d=\"M18.56 5.44l.94 2.06.94-2.06 2.06-.94-2.06-.94-.94-2.06-.94 2.06-2.06.94zm-11 1L8.5 8.5l.94-2.06 2.06-.94-2.06-.94L8.5 2.5l-.94 2.06-2.06.94zm10 10l.94 2.06.94-2.06 2.06-.94-2.06-.94-.94-2.06-.94 2.06-2.06.94z\"/><path d=\"M17.41 7.96l-1.37-1.37c-.4-.4-.92-.59-1.43-.59-.52 0-1.04.2-1.43.59L10.3 9.45l-7.72 7.72c-.78.78-.78 2.05 0 2.83L4 21.41c.39.39.9.59 1.41.59.51 0 1.02-.2 1.41-.59l7.78-7.78 2.81-2.81c.8-.78.8-2.07 0-2.86zM5.41 20L4 18.59l7.72-7.72 1.47 1.35L5.41 20z\"/>\n",
              "  </svg>\n",
              "      </button>\n",
              "      \n",
              "  <style>\n",
              "    .colab-df-container {\n",
              "      display:flex;\n",
              "      flex-wrap:wrap;\n",
              "      gap: 12px;\n",
              "    }\n",
              "\n",
              "    .colab-df-convert {\n",
              "      background-color: #E8F0FE;\n",
              "      border: none;\n",
              "      border-radius: 50%;\n",
              "      cursor: pointer;\n",
              "      display: none;\n",
              "      fill: #1967D2;\n",
              "      height: 32px;\n",
              "      padding: 0 0 0 0;\n",
              "      width: 32px;\n",
              "    }\n",
              "\n",
              "    .colab-df-convert:hover {\n",
              "      background-color: #E2EBFA;\n",
              "      box-shadow: 0px 1px 2px rgba(60, 64, 67, 0.3), 0px 1px 3px 1px rgba(60, 64, 67, 0.15);\n",
              "      fill: #174EA6;\n",
              "    }\n",
              "\n",
              "    [theme=dark] .colab-df-convert {\n",
              "      background-color: #3B4455;\n",
              "      fill: #D2E3FC;\n",
              "    }\n",
              "\n",
              "    [theme=dark] .colab-df-convert:hover {\n",
              "      background-color: #434B5C;\n",
              "      box-shadow: 0px 1px 3px 1px rgba(0, 0, 0, 0.15);\n",
              "      filter: drop-shadow(0px 1px 2px rgba(0, 0, 0, 0.3));\n",
              "      fill: #FFFFFF;\n",
              "    }\n",
              "  </style>\n",
              "\n",
              "      <script>\n",
              "        const buttonEl =\n",
              "          document.querySelector('#df-ec484399-9c5a-46cd-9dab-1f051e27a30b button.colab-df-convert');\n",
              "        buttonEl.style.display =\n",
              "          google.colab.kernel.accessAllowed ? 'block' : 'none';\n",
              "\n",
              "        async function convertToInteractive(key) {\n",
              "          const element = document.querySelector('#df-ec484399-9c5a-46cd-9dab-1f051e27a30b');\n",
              "          const dataTable =\n",
              "            await google.colab.kernel.invokeFunction('convertToInteractive',\n",
              "                                                     [key], {});\n",
              "          if (!dataTable) return;\n",
              "\n",
              "          const docLinkHtml = 'Like what you see? Visit the ' +\n",
              "            '<a target=\"_blank\" href=https://colab.research.google.com/notebooks/data_table.ipynb>data table notebook</a>'\n",
              "            + ' to learn more about interactive tables.';\n",
              "          element.innerHTML = '';\n",
              "          dataTable['output_type'] = 'display_data';\n",
              "          await google.colab.output.renderOutput(dataTable, element);\n",
              "          const docLink = document.createElement('div');\n",
              "          docLink.innerHTML = docLinkHtml;\n",
              "          element.appendChild(docLink);\n",
              "        }\n",
              "      </script>\n",
              "    </div>\n",
              "  </div>\n",
              "  "
            ]
          },
          "metadata": {},
          "execution_count": 9
        }
      ],
      "source": [
        "df"
      ]
    },
    {
      "cell_type": "markdown",
      "metadata": {
        "id": "ftEs0t_NfonF"
      },
      "source": [
        "#Distribucion del rating\n"
      ]
    },
    {
      "cell_type": "code",
      "execution_count": null,
      "metadata": {
        "id": "gRoRsAs-fr4_"
      },
      "outputs": [],
      "source": [
        "ratings = dfRank[\"rating\"].value_counts().to_dict()"
      ]
    },
    {
      "cell_type": "code",
      "source": [
        "print(\"Total de sueños no rankeados = \" + str(ratings[-1]))\n",
        "print(\"Total de sueños rankeados = \" + str(ratings[5]+ratings[4]+ratings[3]+ratings[2]+ratings[1]))\n",
        "print(\"Total de sueños rankeados positivos = \" + str(ratings[5]+ratings[4]))\n",
        "print(\"Total de sueños rankeados negativos = \" + str(ratings[2]+ratings[1]))\n",
        "print(\"Total de sueños rankeados neutros = \"+str(ratings[3]))\n",
        "print(ratings[5]+ratings[4]+ratings[2]+ratings[1])"
      ],
      "metadata": {
        "colab": {
          "base_uri": "https://localhost:8080/"
        },
        "id": "2z3tJc8EwFto",
        "outputId": "3e30a0c3-2587-42d4-db5b-f23a2581d106"
      },
      "execution_count": null,
      "outputs": [
        {
          "output_type": "stream",
          "name": "stdout",
          "text": [
            "Total de sueños no rankeados = 82735\n",
            "Total de sueños rankeados = 40988\n",
            "Total de sueños rankeados positivos = 9404\n",
            "Total de sueños rankeados negativos = 16512\n",
            "Total de sueños rankeados neutros = 15072\n",
            "25916\n"
          ]
        }
      ]
    },
    {
      "cell_type": "markdown",
      "source": [
        "## Suenios rateados vs no rateados\n"
      ],
      "metadata": {
        "id": "Z0hFXDzp1d43"
      }
    },
    {
      "cell_type": "code",
      "source": [
        "ratevsnorate= [(ratings[5]+ratings[4]+ratings[3]+ratings[2]+ratings[1])],ratings[-1]\n",
        "\n",
        "plt.figure(figsize=(3,10))\n",
        "plt.bar(height = ratevsnorate, x = [\"Rateados\",\"No Rateados\"], color = [\"darkcyan\",\"m\"])\n",
        "plt.ylabel(\"Cantidad de sueños\")\n",
        "plt.show()"
      ],
      "metadata": {
        "colab": {
          "base_uri": "https://localhost:8080/",
          "height": 648
        },
        "id": "k10obZly1hyo",
        "outputId": "384f61b9-c11d-4ad3-bea9-ab9d0fcbdbf1"
      },
      "execution_count": null,
      "outputs": [
        {
          "output_type": "stream",
          "name": "stderr",
          "text": [
            "/usr/local/lib/python3.7/dist-packages/numpy/lib/stride_tricks.py:536: VisibleDeprecationWarning: Creating an ndarray from ragged nested sequences (which is a list-or-tuple of lists-or-tuples-or ndarrays with different lengths or shapes) is deprecated. If you meant to do this, you must specify 'dtype=object' when creating the ndarray.\n",
            "  args = [np.array(_m, copy=False, subok=subok) for _m in args]\n"
          ]
        },
        {
          "output_type": "display_data",
          "data": {
            "text/plain": [
              "<Figure size 216x720 with 1 Axes>"
            ],
            "image/png": "[encoded data removed]"
          },
          "metadata": {
            "needs_background": "light"
          }
        }
      ]
    },
    {
      "cell_type": "code",
      "source": [
        "iave = list(ratings.keys())\n",
        "valore = list(ratings.values())\n",
        "\n",
        "ordenao = [valore[4],valore[2],valore[1],valore[3],valore[5]]\n",
        "\n",
        "plt.figure(figsize=(10,10))\n",
        "plt.bar(height = ordenao, x = [1,2,3,4,5], color = \"darkcyan\")\n",
        "plt.title(\"Distribucion de los sueños rateados\")\n",
        "plt.ylabel(\"Cantidad de sueños\")\n",
        "plt.xlabel(\"Valoracion\")\n",
        "plt.show()"
      ],
      "metadata": {
        "colab": {
          "base_uri": "https://localhost:8080/",
          "height": 621
        },
        "id": "jlXPe0XE2mjz",
        "outputId": "fdb5eea3-95bd-4ac1-8218-56c4e310f9c7"
      },
      "execution_count": null,
      "outputs": [
        {
          "output_type": "display_data",
          "data": {
            "text/plain": [
              "<Figure size 720x720 with 1 Axes>"
            ],
            "image/png": "[encoded data removed]"
          },
          "metadata": {
            "needs_background": "light"
          }
        }
      ]
    },
    {
      "cell_type": "code",
      "execution_count": null,
      "metadata": {
        "id": "GC6XZQSiWQ_Y"
      },
      "outputs": [],
      "source": [
        "#CREO MIS DATAFRAMES Y DICCIONARIOS\n",
        "\n",
        "\n",
        "dfRank = dfRank.loc[dfRank[\"rating\"]>0] #elimino los suenios no rankeados == -1\n",
        "dfPosRank = dfRank.loc[dfRank[\"rating\"]>3] #asumo rank pos == mayor a 3\n",
        "dfNegRank = dfRank.loc[dfRank[\"rating\"]<3] #asumo rank neg == menor a 3\n",
        "\n",
        "rank = dfRank[\"user\"].value_counts().to_dict()\n",
        "rankPos = dfPosRank[\"user\"].value_counts().to_dict()\n",
        "rankNeg = dfNegRank[\"user\"].value_counts().to_dict()\n"
      ]
    },
    {
      "cell_type": "markdown",
      "source": [
        "#Distribucion de cantidad de publicaiones por usuarios\n",
        "\n",
        "\n"
      ],
      "metadata": {
        "id": "OQkryHa95Dwr"
      }
    },
    {
      "cell_type": "code",
      "source": [
        "plt.figure(figsize=(15,15))\n",
        "plt.hist(rank.values(), bins = 50,color = \"red\")\n",
        "#plt.xticks(np.arange(0,453,step=20))\n",
        "plt.ylabel(\"Cantidad de usuarios\")\n",
        "plt.xlabel(\"Cantidad de sueños publicados\")\n",
        "plt.yscale('log')\n",
        "plt.show()"
      ],
      "metadata": {
        "colab": {
          "base_uri": "https://localhost:8080/",
          "height": 877
        },
        "id": "8jQ0snED7p3w",
        "outputId": "c508dba5-f4d4-450b-9cce-7f098d1bc5c3"
      },
      "execution_count": null,
      "outputs": [
        {
          "output_type": "display_data",
          "data": {
            "text/plain": [
              "<Figure size 1080x1080 with 1 Axes>"
            ],
            "image/png": "[encoded data removed]"
          },
          "metadata": {
            "needs_background": "light"
          }
        }
      ]
    },
    {
      "cell_type": "markdown",
      "source": [
        "##Distribucion de las entradas rateadas positiva y negativamente"
      ],
      "metadata": {
        "id": "z05-lMBH8ZxC"
      }
    },
    {
      "cell_type": "code",
      "execution_count": null,
      "metadata": {
        "id": "U5H1oFdImIkV",
        "colab": {
          "base_uri": "https://localhost:8080/",
          "height": 893
        },
        "outputId": "4d8e8626-55da-400d-90ec-a5aed70bb037"
      },
      "outputs": [
        {
          "output_type": "display_data",
          "data": {
            "text/plain": [
              "<Figure size 1080x1080 with 1 Axes>"
            ],
            "image/png": "[encoded data removed]"
          },
          "metadata": {
            "needs_background": "light"
          }
        }
      ],
      "source": [
        "plt.figure(figsize=(15,15))\n",
        "plt.hist(rankPos.values(), bins = 453,color = \"darkcyan\")\n",
        "plt.xticks(np.arange(0,453,step=20))\n",
        "plt.title(\"Distribucion de las entradas rateadas positivamente\")\n",
        "plt.ylabel(\"Cantidad de usuarios\")\n",
        "plt.xlabel(\"Cantidad de sueños publicados\")\n",
        "plt.yscale('log')\n",
        "plt.show()"
      ]
    },
    {
      "cell_type": "code",
      "execution_count": null,
      "metadata": {
        "id": "LiyabHZXqAZf",
        "colab": {
          "base_uri": "https://localhost:8080/",
          "height": 893
        },
        "outputId": "60e30901-05c2-4866-fff5-3c654357b1bf"
      },
      "outputs": [
        {
          "output_type": "display_data",
          "data": {
            "text/plain": [
              "<Figure size 1080x1080 with 1 Axes>"
            ],
            "image/png": "[encoded data removed]"
          },
          "metadata": {
            "needs_background": "light"
          }
        }
      ],
      "source": [
        "lista_de_entradas = [x for x in rankPos.values() if x < 50]\n",
        "\n",
        "plt.figure(figsize=(15,15))\n",
        "plt.hist(lista_de_entradas, bins = 50,color = \"darkcyan\")\n",
        "plt.xticks(np.arange(0,50,step=1))\n",
        "plt.title(\"Distribucion de las entradas rateadas positivamente\")\n",
        "plt.ylabel(\"Cantidad de usuarios\")\n",
        "plt.xlabel(\"Cantidad de sueños publicados\")\n",
        "plt.yscale('log')\n",
        "plt.show()"
      ]
    },
    {
      "cell_type": "code",
      "execution_count": null,
      "metadata": {
        "id": "7iR9uUastrBF",
        "colab": {
          "base_uri": "https://localhost:8080/",
          "height": 893
        },
        "outputId": "8b1ef452-fd41-44f8-f49d-610bb61d0adf"
      },
      "outputs": [
        {
          "output_type": "display_data",
          "data": {
            "text/plain": [
              "<Figure size 1080x1080 with 1 Axes>"
            ],
            "image/png": "[encoded data removed]"
          },
          "metadata": {
            "needs_background": "light"
          }
        }
      ],
      "source": [
        "lista_de_entradas3 = [x for x in rankNeg.values() if x < 453]\n",
        "\n",
        "plt.figure(figsize=(15,15))\n",
        "plt.hist(lista_de_entradas3, bins = 453,color = \"m\")\n",
        "plt.xticks(np.arange(0,453,step=20))\n",
        "plt.title(\"Distribucion de las entradas rateadas negativamente\")\n",
        "plt.ylabel(\"Cantidad de usuarios\")\n",
        "plt.xlabel(\"Cantidad de sueños publicados\")\n",
        "plt.yscale('log')\n",
        "plt.show()"
      ]
    },
    {
      "cell_type": "code",
      "execution_count": null,
      "metadata": {
        "id": "QQ2gEO5mvEEp",
        "colab": {
          "base_uri": "https://localhost:8080/",
          "height": 893
        },
        "outputId": "b8489907-693a-4f10-ea51-f7173938d169"
      },
      "outputs": [
        {
          "output_type": "display_data",
          "data": {
            "text/plain": [
              "<Figure size 1080x1080 with 1 Axes>"
            ],
            "image/png": "[encoded data removed]"
          },
          "metadata": {
            "needs_background": "light"
          }
        }
      ],
      "source": [
        "lista_de_entradas2 = [x for x in rankNeg.values() if x < 50]\n",
        "\n",
        "plt.figure(figsize=(15,15))\n",
        "plt.hist(lista_de_entradas2, bins = 50,color = \"m\")\n",
        "plt.xticks(np.arange(0,50,step=1))\n",
        "plt.title(\"Distribucion de las entradas rateadas negativamente\")\n",
        "plt.ylabel(\"Cantidad de usuarios\")\n",
        "plt.xlabel(\"Cantidad de sueños publicados\")\n",
        "plt.yscale('log')\n",
        "plt.show()"
      ]
    },
    {
      "cell_type": "markdown",
      "source": [
        "#Relacion Rank - Variables"
      ],
      "metadata": {
        "id": "RwZmIIfrtkGN"
      }
    },
    {
      "cell_type": "markdown",
      "source": [
        "##Rank-Lucidez"
      ],
      "metadata": {
        "id": "i5D4a72Cf2UB"
      }
    },
    {
      "cell_type": "code",
      "source": [
        "\n",
        "dfLucidezRank = dfRank.drop(['cohesion', 'intent', 'raicesl','technique','url', 'user', 'dream', 'additional_comments', 'themes', 'settings','characters', 'emotions', 'activities', 'raices', 'text','raices_unidas'],inplace=False,axis=1)\n",
        "dfLucidezRank = dfLucidezRank.loc[dfLucidezRank[\"lucidity\"]>0] # elimino tambien los que no tienen informacion sobre la lucidez\n",
        "\n"
      ],
      "metadata": {
        "id": "NAXsCQiNDgss"
      },
      "execution_count": null,
      "outputs": []
    },
    {
      "cell_type": "code",
      "source": [
        "r = np.corrcoef(dfLucidezRank['lucidity'], dfLucidezRank['rating'])\n",
        "r"
      ],
      "metadata": {
        "colab": {
          "base_uri": "https://localhost:8080/"
        },
        "id": "XVQwZdcQffNH",
        "outputId": "cda962a6-d029-40dd-aea6-ad8217b9c928"
      },
      "execution_count": null,
      "outputs": [
        {
          "output_type": "execute_result",
          "data": {
            "text/plain": [
              "array([[1.        , 0.26806776],\n",
              "       [0.26806776, 1.        ]])"
            ]
          },
          "metadata": {},
          "execution_count": 28
        }
      ]
    },
    {
      "cell_type": "code",
      "source": [
        "\n",
        "oneHotRank = pd.get_dummies(dfLucidezRank.rating, prefix='Rating')\n",
        "oneHotLucid = pd.get_dummies(dfLucidezRank.lucidity, prefix='Lucidity')\n",
        "\n",
        "\n",
        "dfOneHot = oneHotRank.join(oneHotLucid)\n",
        "y = dfOneHot.corr()\n",
        "y = y.drop(['Lucidity_1.25', 'Lucidity_2.5', 'Lucidity_3.75', 'Lucidity_5.0'], axis=1)\n",
        "y = y.drop(['Rating_1.0', 'Rating_2.0', 'Rating_3.0', 'Rating_4.0', 'Rating_5.0'], axis=0)\n",
        "y"
      ],
      "metadata": {
        "colab": {
          "base_uri": "https://localhost:8080/",
          "height": 175
        },
        "id": "HBCBI78bLzK6",
        "outputId": "a32ffb7b-7bb1-4c87-d45d-5cf54f113da1"
      },
      "execution_count": null,
      "outputs": [
        {
          "output_type": "execute_result",
          "data": {
            "text/plain": [
              "               Rating_1.0  Rating_2.0  Rating_3.0  Rating_4.0  Rating_5.0\n",
              "Lucidity_1.25    0.005967    0.107570    0.062942   -0.070003   -0.140294\n",
              "Lucidity_2.5     0.054085   -0.000342    0.017579    0.006114   -0.068559\n",
              "Lucidity_3.75   -0.001867   -0.032375   -0.002489    0.034789    0.005238\n",
              "Lucidity_5.0    -0.081456   -0.118571   -0.112133    0.053890    0.290973"
            ],
            "text/html": [
              "\n",
              "  <div id=\"df-4c27b861-2833-445f-9186-06ec747c87a3\">\n",
              "    <div class=\"colab-df-container\">\n",
              "      <div>\n",
              "<style scoped>\n",
              "    .dataframe tbody tr th:only-of-type {\n",
              "        vertical-align: middle;\n",
              "    }\n",
              "\n",
              "    .dataframe tbody tr th {\n",
              "        vertical-align: top;\n",
              "    }\n",
              "\n",
              "    .dataframe thead th {\n",
              "        text-align: right;\n",
              "    }\n",
              "</style>\n",
              "<table border=\"1\" class=\"dataframe\">\n",
              "  <thead>\n",
              "    <tr style=\"text-align: right;\">\n",
              "      <th></th>\n",
              "      <th>Rating_1.0</th>\n",
              "      <th>Rating_2.0</th>\n",
              "      <th>Rating_3.0</th>\n",
              "      <th>Rating_4.0</th>\n",
              "      <th>Rating_5.0</th>\n",
              "    </tr>\n",
              "  </thead>\n",
              "  <tbody>\n",
              "    <tr>\n",
              "      <th>Lucidity_1.25</th>\n",
              "      <td>0.005967</td>\n",
              "      <td>0.107570</td>\n",
              "      <td>0.062942</td>\n",
              "      <td>-0.070003</td>\n",
              "      <td>-0.140294</td>\n",
              "    </tr>\n",
              "    <tr>\n",
              "      <th>Lucidity_2.5</th>\n",
              "      <td>0.054085</td>\n",
              "      <td>-0.000342</td>\n",
              "      <td>0.017579</td>\n",
              "      <td>0.006114</td>\n",
              "      <td>-0.068559</td>\n",
              "    </tr>\n",
              "    <tr>\n",
              "      <th>Lucidity_3.75</th>\n",
              "      <td>-0.001867</td>\n",
              "      <td>-0.032375</td>\n",
              "      <td>-0.002489</td>\n",
              "      <td>0.034789</td>\n",
              "      <td>0.005238</td>\n",
              "    </tr>\n",
              "    <tr>\n",
              "      <th>Lucidity_5.0</th>\n",
              "      <td>-0.081456</td>\n",
              "      <td>-0.118571</td>\n",
              "      <td>-0.112133</td>\n",
              "      <td>0.053890</td>\n",
              "      <td>0.290973</td>\n",
              "    </tr>\n",
              "  </tbody>\n",
              "</table>\n",
              "</div>\n",
              "      <button class=\"colab-df-convert\" onclick=\"convertToInteractive('df-4c27b861-2833-445f-9186-06ec747c87a3')\"\n",
              "              title=\"Convert this dataframe to an interactive table.\"\n",
              "              style=\"display:none;\">\n",
              "        \n",
              "  <svg xmlns=\"http://www.w3.org/2000/svg\" height=\"24px\"viewBox=\"0 0 24 24\"\n",
              "       width=\"24px\">\n",
              "    <path d=\"M0 0h24v24H0V0z\" fill=\"none\"/>\n",
              "    <path d=\"M18.56 5.44l.94 2.06.94-2.06 2.06-.94-2.06-.94-.94-2.06-.94 2.06-2.06.94zm-11 1L8.5 8.5l.94-2.06 2.06-.94-2.06-.94L8.5 2.5l-.94 2.06-2.06.94zm10 10l.94 2.06.94-2.06 2.06-.94-2.06-.94-.94-2.06-.94 2.06-2.06.94z\"/><path d=\"M17.41 7.96l-1.37-1.37c-.4-.4-.92-.59-1.43-.59-.52 0-1.04.2-1.43.59L10.3 9.45l-7.72 7.72c-.78.78-.78 2.05 0 2.83L4 21.41c.39.39.9.59 1.41.59.51 0 1.02-.2 1.41-.59l7.78-7.78 2.81-2.81c.8-.78.8-2.07 0-2.86zM5.41 20L4 18.59l7.72-7.72 1.47 1.35L5.41 20z\"/>\n",
              "  </svg>\n",
              "      </button>\n",
              "      \n",
              "  <style>\n",
              "    .colab-df-container {\n",
              "      display:flex;\n",
              "      flex-wrap:wrap;\n",
              "      gap: 12px;\n",
              "    }\n",
              "\n",
              "    .colab-df-convert {\n",
              "      background-color: #E8F0FE;\n",
              "      border: none;\n",
              "      border-radius: 50%;\n",
              "      cursor: pointer;\n",
              "      display: none;\n",
              "      fill: #1967D2;\n",
              "      height: 32px;\n",
              "      padding: 0 0 0 0;\n",
              "      width: 32px;\n",
              "    }\n",
              "\n",
              "    .colab-df-convert:hover {\n",
              "      background-color: #E2EBFA;\n",
              "      box-shadow: 0px 1px 2px rgba(60, 64, 67, 0.3), 0px 1px 3px 1px rgba(60, 64, 67, 0.15);\n",
              "      fill: #174EA6;\n",
              "    }\n",
              "\n",
              "    [theme=dark] .colab-df-convert {\n",
              "      background-color: #3B4455;\n",
              "      fill: #D2E3FC;\n",
              "    }\n",
              "\n",
              "    [theme=dark] .colab-df-convert:hover {\n",
              "      background-color: #434B5C;\n",
              "      box-shadow: 0px 1px 3px 1px rgba(0, 0, 0, 0.15);\n",
              "      filter: drop-shadow(0px 1px 2px rgba(0, 0, 0, 0.3));\n",
              "      fill: #FFFFFF;\n",
              "    }\n",
              "  </style>\n",
              "\n",
              "      <script>\n",
              "        const buttonEl =\n",
              "          document.querySelector('#df-4c27b861-2833-445f-9186-06ec747c87a3 button.colab-df-convert');\n",
              "        buttonEl.style.display =\n",
              "          google.colab.kernel.accessAllowed ? 'block' : 'none';\n",
              "\n",
              "        async function convertToInteractive(key) {\n",
              "          const element = document.querySelector('#df-4c27b861-2833-445f-9186-06ec747c87a3');\n",
              "          const dataTable =\n",
              "            await google.colab.kernel.invokeFunction('convertToInteractive',\n",
              "                                                     [key], {});\n",
              "          if (!dataTable) return;\n",
              "\n",
              "          const docLinkHtml = 'Like what you see? Visit the ' +\n",
              "            '<a target=\"_blank\" href=https://colab.research.google.com/notebooks/data_table.ipynb>data table notebook</a>'\n",
              "            + ' to learn more about interactive tables.';\n",
              "          element.innerHTML = '';\n",
              "          dataTable['output_type'] = 'display_data';\n",
              "          await google.colab.output.renderOutput(dataTable, element);\n",
              "          const docLink = document.createElement('div');\n",
              "          docLink.innerHTML = docLinkHtml;\n",
              "          element.appendChild(docLink);\n",
              "        }\n",
              "      </script>\n",
              "    </div>\n",
              "  </div>\n",
              "  "
            ]
          },
          "metadata": {},
          "execution_count": 20
        }
      ]
    },
    {
      "cell_type": "code",
      "source": [
        "plt.imshow(y)\n",
        "plt.colorbar()\n",
        "plt.xticks(range(len(y.columns)),y.columns, rotation=45)\n",
        "plt.yticks(range(len(y)),y.index)\n",
        "plt.show()\n",
        "#ESTOY TRABAJANDO CON 9311 DATOS"
      ],
      "metadata": {
        "colab": {
          "base_uri": "https://localhost:8080/",
          "height": 299
        },
        "id": "xfWc2MXZYIUz",
        "outputId": "c50882c8-6515-4bea-acc8-3e7077dac726"
      },
      "execution_count": null,
      "outputs": [
        {
          "output_type": "display_data",
          "data": {
            "text/plain": [
              "<Figure size 432x288 with 2 Axes>"
            ],
            "image/png": "[encoded data removed]"
          },
          "metadata": {
            "needs_background": "light"
          }
        }
      ]
    },
    {
      "cell_type": "markdown",
      "source": [
        "##Rank-Cohesion"
      ],
      "metadata": {
        "id": "mDQRQCcbf_mt"
      }
    },
    {
      "cell_type": "code",
      "source": [
        "dfCohesionRank = dfRank.drop(['intent', 'lucidity', 'raicesl', 'technique', 'url', 'user', 'dream', 'additional_comments', 'themes', 'settings','characters', 'emotions', 'activities', 'raices', 'text','raices_unidas'],inplace=False,axis=1)\n",
        "dfCohesionRank.shape"
      ],
      "metadata": {
        "colab": {
          "base_uri": "https://localhost:8080/"
        },
        "id": "c0ySgOYygDt1",
        "outputId": "cfda9638-cd16-4785-c220-08308d3912f8"
      },
      "execution_count": null,
      "outputs": [
        {
          "output_type": "execute_result",
          "data": {
            "text/plain": [
              "(40988, 2)"
            ]
          },
          "metadata": {},
          "execution_count": 22
        }
      ]
    },
    {
      "cell_type": "code",
      "source": [
        "oneHotRank1 = pd.get_dummies(dfCohesionRank.rating, prefix='Rating')\n",
        "oneHotCohesion = pd.get_dummies(dfCohesionRank.cohesion, prefix='Cohesion')\n",
        "\n",
        "\n",
        "dfOneHot1 = oneHotRank1.join(oneHotCohesion)\n",
        "y1 = dfOneHot1.corr()\n",
        "y1 = y1.drop(['Cohesion_1.0','Cohesion_2.0','Cohesion_3.0','Cohesion_4.0','Cohesion_5.0'], axis=1)\n",
        "y1 = y1.drop(['Rating_1.0', 'Rating_2.0', 'Rating_3.0', 'Rating_4.0', 'Rating_5.0'], axis=0)\n",
        "y1"
      ],
      "metadata": {
        "colab": {
          "base_uri": "https://localhost:8080/",
          "height": 206
        },
        "id": "M0QizMQumgmu",
        "outputId": "650b047a-1f7f-4277-fcf4-3ac537b65dda"
      },
      "execution_count": null,
      "outputs": [
        {
          "output_type": "execute_result",
          "data": {
            "text/plain": [
              "              Rating_1.0  Rating_2.0  Rating_3.0  Rating_4.0  Rating_5.0\n",
              "Cohesion_1.0    0.086150    0.023698    0.005166   -0.071342   -0.049208\n",
              "Cohesion_2.0    0.037143    0.099244   -0.036544   -0.049795   -0.076686\n",
              "Cohesion_3.0   -0.057180    0.033834    0.076276   -0.025893   -0.093501\n",
              "Cohesion_4.0   -0.058601   -0.059668    0.014516    0.107343    0.001425\n",
              "Cohesion_5.0   -0.002970   -0.115955   -0.095139    0.053065    0.288200"
            ],
            "text/html": [
              "\n",
              "  <div id=\"df-b480f77e-176c-433c-9ad6-a28b061d89f9\">\n",
              "    <div class=\"colab-df-container\">\n",
              "      <div>\n",
              "<style scoped>\n",
              "    .dataframe tbody tr th:only-of-type {\n",
              "        vertical-align: middle;\n",
              "    }\n",
              "\n",
              "    .dataframe tbody tr th {\n",
              "        vertical-align: top;\n",
              "    }\n",
              "\n",
              "    .dataframe thead th {\n",
              "        text-align: right;\n",
              "    }\n",
              "</style>\n",
              "<table border=\"1\" class=\"dataframe\">\n",
              "  <thead>\n",
              "    <tr style=\"text-align: right;\">\n",
              "      <th></th>\n",
              "      <th>Rating_1.0</th>\n",
              "      <th>Rating_2.0</th>\n",
              "      <th>Rating_3.0</th>\n",
              "      <th>Rating_4.0</th>\n",
              "      <th>Rating_5.0</th>\n",
              "    </tr>\n",
              "  </thead>\n",
              "  <tbody>\n",
              "    <tr>\n",
              "      <th>Cohesion_1.0</th>\n",
              "      <td>0.086150</td>\n",
              "      <td>0.023698</td>\n",
              "      <td>0.005166</td>\n",
              "      <td>-0.071342</td>\n",
              "      <td>-0.049208</td>\n",
              "    </tr>\n",
              "    <tr>\n",
              "      <th>Cohesion_2.0</th>\n",
              "      <td>0.037143</td>\n",
              "      <td>0.099244</td>\n",
              "      <td>-0.036544</td>\n",
              "      <td>-0.049795</td>\n",
              "      <td>-0.076686</td>\n",
              "    </tr>\n",
              "    <tr>\n",
              "      <th>Cohesion_3.0</th>\n",
              "      <td>-0.057180</td>\n",
              "      <td>0.033834</td>\n",
              "      <td>0.076276</td>\n",
              "      <td>-0.025893</td>\n",
              "      <td>-0.093501</td>\n",
              "    </tr>\n",
              "    <tr>\n",
              "      <th>Cohesion_4.0</th>\n",
              "      <td>-0.058601</td>\n",
              "      <td>-0.059668</td>\n",
              "      <td>0.014516</td>\n",
              "      <td>0.107343</td>\n",
              "      <td>0.001425</td>\n",
              "    </tr>\n",
              "    <tr>\n",
              "      <th>Cohesion_5.0</th>\n",
              "      <td>-0.002970</td>\n",
              "      <td>-0.115955</td>\n",
              "      <td>-0.095139</td>\n",
              "      <td>0.053065</td>\n",
              "      <td>0.288200</td>\n",
              "    </tr>\n",
              "  </tbody>\n",
              "</table>\n",
              "</div>\n",
              "      <button class=\"colab-df-convert\" onclick=\"convertToInteractive('df-b480f77e-176c-433c-9ad6-a28b061d89f9')\"\n",
              "              title=\"Convert this dataframe to an interactive table.\"\n",
              "              style=\"display:none;\">\n",
              "        \n",
              "  <svg xmlns=\"http://www.w3.org/2000/svg\" height=\"24px\"viewBox=\"0 0 24 24\"\n",
              "       width=\"24px\">\n",
              "    <path d=\"M0 0h24v24H0V0z\" fill=\"none\"/>\n",
              "    <path d=\"M18.56 5.44l.94 2.06.94-2.06 2.06-.94-2.06-.94-.94-2.06-.94 2.06-2.06.94zm-11 1L8.5 8.5l.94-2.06 2.06-.94-2.06-.94L8.5 2.5l-.94 2.06-2.06.94zm10 10l.94 2.06.94-2.06 2.06-.94-2.06-.94-.94-2.06-.94 2.06-2.06.94z\"/><path d=\"M17.41 7.96l-1.37-1.37c-.4-.4-.92-.59-1.43-.59-.52 0-1.04.2-1.43.59L10.3 9.45l-7.72 7.72c-.78.78-.78 2.05 0 2.83L4 21.41c.39.39.9.59 1.41.59.51 0 1.02-.2 1.41-.59l7.78-7.78 2.81-2.81c.8-.78.8-2.07 0-2.86zM5.41 20L4 18.59l7.72-7.72 1.47 1.35L5.41 20z\"/>\n",
              "  </svg>\n",
              "      </button>\n",
              "      \n",
              "  <style>\n",
              "    .colab-df-container {\n",
              "      display:flex;\n",
              "      flex-wrap:wrap;\n",
              "      gap: 12px;\n",
              "    }\n",
              "\n",
              "    .colab-df-convert {\n",
              "      background-color: #E8F0FE;\n",
              "      border: none;\n",
              "      border-radius: 50%;\n",
              "      cursor: pointer;\n",
              "      display: none;\n",
              "      fill: #1967D2;\n",
              "      height: 32px;\n",
              "      padding: 0 0 0 0;\n",
              "      width: 32px;\n",
              "    }\n",
              "\n",
              "    .colab-df-convert:hover {\n",
              "      background-color: #E2EBFA;\n",
              "      box-shadow: 0px 1px 2px rgba(60, 64, 67, 0.3), 0px 1px 3px 1px rgba(60, 64, 67, 0.15);\n",
              "      fill: #174EA6;\n",
              "    }\n",
              "\n",
              "    [theme=dark] .colab-df-convert {\n",
              "      background-color: #3B4455;\n",
              "      fill: #D2E3FC;\n",
              "    }\n",
              "\n",
              "    [theme=dark] .colab-df-convert:hover {\n",
              "      background-color: #434B5C;\n",
              "      box-shadow: 0px 1px 3px 1px rgba(0, 0, 0, 0.15);\n",
              "      filter: drop-shadow(0px 1px 2px rgba(0, 0, 0, 0.3));\n",
              "      fill: #FFFFFF;\n",
              "    }\n",
              "  </style>\n",
              "\n",
              "      <script>\n",
              "        const buttonEl =\n",
              "          document.querySelector('#df-b480f77e-176c-433c-9ad6-a28b061d89f9 button.colab-df-convert');\n",
              "        buttonEl.style.display =\n",
              "          google.colab.kernel.accessAllowed ? 'block' : 'none';\n",
              "\n",
              "        async function convertToInteractive(key) {\n",
              "          const element = document.querySelector('#df-b480f77e-176c-433c-9ad6-a28b061d89f9');\n",
              "          const dataTable =\n",
              "            await google.colab.kernel.invokeFunction('convertToInteractive',\n",
              "                                                     [key], {});\n",
              "          if (!dataTable) return;\n",
              "\n",
              "          const docLinkHtml = 'Like what you see? Visit the ' +\n",
              "            '<a target=\"_blank\" href=https://colab.research.google.com/notebooks/data_table.ipynb>data table notebook</a>'\n",
              "            + ' to learn more about interactive tables.';\n",
              "          element.innerHTML = '';\n",
              "          dataTable['output_type'] = 'display_data';\n",
              "          await google.colab.output.renderOutput(dataTable, element);\n",
              "          const docLink = document.createElement('div');\n",
              "          docLink.innerHTML = docLinkHtml;\n",
              "          element.appendChild(docLink);\n",
              "        }\n",
              "      </script>\n",
              "    </div>\n",
              "  </div>\n",
              "  "
            ]
          },
          "metadata": {},
          "execution_count": 23
        }
      ]
    },
    {
      "cell_type": "code",
      "source": [
        "plt.imshow(y1)\n",
        "plt.colorbar()\n",
        "plt.xticks(range(len(y1.columns)),y1.columns, rotation=45)\n",
        "plt.yticks(range(len(y1)),y1.index)\n",
        "plt.show()\n",
        "#ESTOY TRABAJANDO CON 40988 DATOS"
      ],
      "metadata": {
        "colab": {
          "base_uri": "https://localhost:8080/",
          "height": 301
        },
        "id": "8qNV8Zw5nymi",
        "outputId": "5b330bb9-7ed1-4971-b706-c4edd59b1ce3"
      },
      "execution_count": null,
      "outputs": [
        {
          "output_type": "display_data",
          "data": {
            "text/plain": [
              "<Figure size 432x288 with 2 Axes>"
            ],
            "image/png": "[encoded data removed]"
          },
          "metadata": {
            "needs_background": "light"
          }
        }
      ]
    },
    {
      "cell_type": "markdown",
      "source": [
        "##Rank-Technique"
      ],
      "metadata": {
        "id": "XhXm3_3_oHgw"
      }
    },
    {
      "cell_type": "code",
      "source": [
        "pepe = dfRank[(dfRank['technique'] != \"-1\")]#deleteo los q no le cargaron la tecnica que usaron\n",
        "dfTechniqueRank = pepe.drop(['cohesion','intent', 'lucidity', 'raicesl', 'url', 'user', 'dream', 'additional_comments', 'themes', 'settings','characters', 'emotions', 'activities', 'raices', 'text','raices_unidas'],inplace=False,axis=1)\n",
        "dfTechniqueRank.shape\n"
      ],
      "metadata": {
        "colab": {
          "base_uri": "https://localhost:8080/"
        },
        "id": "OwEKhVZnoMjd",
        "outputId": "4e54da2d-3bd4-41e7-da70-d858aedafbd7"
      },
      "execution_count": null,
      "outputs": [
        {
          "output_type": "execute_result",
          "data": {
            "text/plain": [
              "(2797, 2)"
            ]
          },
          "metadata": {},
          "execution_count": 25
        }
      ]
    },
    {
      "cell_type": "code",
      "source": [
        "oneHotRank2 = pd.get_dummies(dfTechniqueRank.rating, prefix='Rating')\n",
        "oneHotTechnique = pd.get_dummies(dfTechniqueRank.technique, prefix='Technique')\n",
        "\n",
        "dfOneHot2 = oneHotRank2.join(oneHotTechnique)\n",
        "y2 = dfOneHot2.corr()\n",
        "y2 = y2.drop(['Technique_CAT','Technique_DILD','Technique_MILD','Technique_NILD','Technique_None','Technique_Other','Technique_RT','Technique_WBTB','Technique_WILD'], axis=1)\n",
        "y2 = y2.drop(['Rating_1.0', 'Rating_2.0', 'Rating_3.0', 'Rating_4.0', 'Rating_5.0'], axis=0)\n",
        "y2"
      ],
      "metadata": {
        "colab": {
          "base_uri": "https://localhost:8080/",
          "height": 332
        },
        "id": "ypD63avIoaTt",
        "outputId": "c9e319c0-4077-475b-8e3b-628512ed1a62"
      },
      "execution_count": null,
      "outputs": [
        {
          "output_type": "execute_result",
          "data": {
            "text/plain": [
              "                 Rating_1.0  Rating_2.0  Rating_3.0  Rating_4.0  Rating_5.0\n",
              "Technique_CAT     -0.015022   -0.029380   -0.008537    0.060826   -0.008472\n",
              "Technique_DILD     0.058403   -0.033301   -0.003327    0.021132   -0.019977\n",
              "Technique_MILD     0.052271    0.038732   -0.004870   -0.022238   -0.048814\n",
              "Technique_NILD     0.023661   -0.023037    0.001220    0.011088   -0.003363\n",
              "Technique_None    -0.040922    0.038914    0.023948    0.035976   -0.079402\n",
              "Technique_Other   -0.076768    0.040986    0.020609   -0.021753    0.003765\n",
              "Technique_RT       0.091036    0.003170   -0.056991   -0.037752    0.041887\n",
              "Technique_WBTB    -0.003521   -0.064856    0.040824    0.022704    0.000877\n",
              "Technique_WILD    -0.025704   -0.055419   -0.019192    0.006050    0.094176"
            ],
            "text/html": [
              "\n",
              "  <div id=\"df-068f0640-883c-4ccb-afbe-8ea71d969200\">\n",
              "    <div class=\"colab-df-container\">\n",
              "      <div>\n",
              "<style scoped>\n",
              "    .dataframe tbody tr th:only-of-type {\n",
              "        vertical-align: middle;\n",
              "    }\n",
              "\n",
              "    .dataframe tbody tr th {\n",
              "        vertical-align: top;\n",
              "    }\n",
              "\n",
              "    .dataframe thead th {\n",
              "        text-align: right;\n",
              "    }\n",
              "</style>\n",
              "<table border=\"1\" class=\"dataframe\">\n",
              "  <thead>\n",
              "    <tr style=\"text-align: right;\">\n",
              "      <th></th>\n",
              "      <th>Rating_1.0</th>\n",
              "      <th>Rating_2.0</th>\n",
              "      <th>Rating_3.0</th>\n",
              "      <th>Rating_4.0</th>\n",
              "      <th>Rating_5.0</th>\n",
              "    </tr>\n",
              "  </thead>\n",
              "  <tbody>\n",
              "    <tr>\n",
              "      <th>Technique_CAT</th>\n",
              "      <td>-0.015022</td>\n",
              "      <td>-0.029380</td>\n",
              "      <td>-0.008537</td>\n",
              "      <td>0.060826</td>\n",
              "      <td>-0.008472</td>\n",
              "    </tr>\n",
              "    <tr>\n",
              "      <th>Technique_DILD</th>\n",
              "      <td>0.058403</td>\n",
              "      <td>-0.033301</td>\n",
              "      <td>-0.003327</td>\n",
              "      <td>0.021132</td>\n",
              "      <td>-0.019977</td>\n",
              "    </tr>\n",
              "    <tr>\n",
              "      <th>Technique_MILD</th>\n",
              "      <td>0.052271</td>\n",
              "      <td>0.038732</td>\n",
              "      <td>-0.004870</td>\n",
              "      <td>-0.022238</td>\n",
              "      <td>-0.048814</td>\n",
              "    </tr>\n",
              "    <tr>\n",
              "      <th>Technique_NILD</th>\n",
              "      <td>0.023661</td>\n",
              "      <td>-0.023037</td>\n",
              "      <td>0.001220</td>\n",
              "      <td>0.011088</td>\n",
              "      <td>-0.003363</td>\n",
              "    </tr>\n",
              "    <tr>\n",
              "      <th>Technique_None</th>\n",
              "      <td>-0.040922</td>\n",
              "      <td>0.038914</td>\n",
              "      <td>0.023948</td>\n",
              "      <td>0.035976</td>\n",
              "      <td>-0.079402</td>\n",
              "    </tr>\n",
              "    <tr>\n",
              "      <th>Technique_Other</th>\n",
              "      <td>-0.076768</td>\n",
              "      <td>0.040986</td>\n",
              "      <td>0.020609</td>\n",
              "      <td>-0.021753</td>\n",
              "      <td>0.003765</td>\n",
              "    </tr>\n",
              "    <tr>\n",
              "      <th>Technique_RT</th>\n",
              "      <td>0.091036</td>\n",
              "      <td>0.003170</td>\n",
              "      <td>-0.056991</td>\n",
              "      <td>-0.037752</td>\n",
              "      <td>0.041887</td>\n",
              "    </tr>\n",
              "    <tr>\n",
              "      <th>Technique_WBTB</th>\n",
              "      <td>-0.003521</td>\n",
              "      <td>-0.064856</td>\n",
              "      <td>0.040824</td>\n",
              "      <td>0.022704</td>\n",
              "      <td>0.000877</td>\n",
              "    </tr>\n",
              "    <tr>\n",
              "      <th>Technique_WILD</th>\n",
              "      <td>-0.025704</td>\n",
              "      <td>-0.055419</td>\n",
              "      <td>-0.019192</td>\n",
              "      <td>0.006050</td>\n",
              "      <td>0.094176</td>\n",
              "    </tr>\n",
              "  </tbody>\n",
              "</table>\n",
              "</div>\n",
              "      <button class=\"colab-df-convert\" onclick=\"convertToInteractive('df-068f0640-883c-4ccb-afbe-8ea71d969200')\"\n",
              "              title=\"Convert this dataframe to an interactive table.\"\n",
              "              style=\"display:none;\">\n",
              "        \n",
              "  <svg xmlns=\"http://www.w3.org/2000/svg\" height=\"24px\"viewBox=\"0 0 24 24\"\n",
              "       width=\"24px\">\n",
              "    <path d=\"M0 0h24v24H0V0z\" fill=\"none\"/>\n",
              "    <path d=\"M18.56 5.44l.94 2.06.94-2.06 2.06-.94-2.06-.94-.94-2.06-.94 2.06-2.06.94zm-11 1L8.5 8.5l.94-2.06 2.06-.94-2.06-.94L8.5 2.5l-.94 2.06-2.06.94zm10 10l.94 2.06.94-2.06 2.06-.94-2.06-.94-.94-2.06-.94 2.06-2.06.94z\"/><path d=\"M17.41 7.96l-1.37-1.37c-.4-.4-.92-.59-1.43-.59-.52 0-1.04.2-1.43.59L10.3 9.45l-7.72 7.72c-.78.78-.78 2.05 0 2.83L4 21.41c.39.39.9.59 1.41.59.51 0 1.02-.2 1.41-.59l7.78-7.78 2.81-2.81c.8-.78.8-2.07 0-2.86zM5.41 20L4 18.59l7.72-7.72 1.47 1.35L5.41 20z\"/>\n",
              "  </svg>\n",
              "      </button>\n",
              "      \n",
              "  <style>\n",
              "    .colab-df-container {\n",
              "      display:flex;\n",
              "      flex-wrap:wrap;\n",
              "      gap: 12px;\n",
              "    }\n",
              "\n",
              "    .colab-df-convert {\n",
              "      background-color: #E8F0FE;\n",
              "      border: none;\n",
              "      border-radius: 50%;\n",
              "      cursor: pointer;\n",
              "      display: none;\n",
              "      fill: #1967D2;\n",
              "      height: 32px;\n",
              "      padding: 0 0 0 0;\n",
              "      width: 32px;\n",
              "    }\n",
              "\n",
              "    .colab-df-convert:hover {\n",
              "      background-color: #E2EBFA;\n",
              "      box-shadow: 0px 1px 2px rgba(60, 64, 67, 0.3), 0px 1px 3px 1px rgba(60, 64, 67, 0.15);\n",
              "      fill: #174EA6;\n",
              "    }\n",
              "\n",
              "    [theme=dark] .colab-df-convert {\n",
              "      background-color: #3B4455;\n",
              "      fill: #D2E3FC;\n",
              "    }\n",
              "\n",
              "    [theme=dark] .colab-df-convert:hover {\n",
              "      background-color: #434B5C;\n",
              "      box-shadow: 0px 1px 3px 1px rgba(0, 0, 0, 0.15);\n",
              "      filter: drop-shadow(0px 1px 2px rgba(0, 0, 0, 0.3));\n",
              "      fill: #FFFFFF;\n",
              "    }\n",
              "  </style>\n",
              "\n",
              "      <script>\n",
              "        const buttonEl =\n",
              "          document.querySelector('#df-068f0640-883c-4ccb-afbe-8ea71d969200 button.colab-df-convert');\n",
              "        buttonEl.style.display =\n",
              "          google.colab.kernel.accessAllowed ? 'block' : 'none';\n",
              "\n",
              "        async function convertToInteractive(key) {\n",
              "          const element = document.querySelector('#df-068f0640-883c-4ccb-afbe-8ea71d969200');\n",
              "          const dataTable =\n",
              "            await google.colab.kernel.invokeFunction('convertToInteractive',\n",
              "                                                     [key], {});\n",
              "          if (!dataTable) return;\n",
              "\n",
              "          const docLinkHtml = 'Like what you see? Visit the ' +\n",
              "            '<a target=\"_blank\" href=https://colab.research.google.com/notebooks/data_table.ipynb>data table notebook</a>'\n",
              "            + ' to learn more about interactive tables.';\n",
              "          element.innerHTML = '';\n",
              "          dataTable['output_type'] = 'display_data';\n",
              "          await google.colab.output.renderOutput(dataTable, element);\n",
              "          const docLink = document.createElement('div');\n",
              "          docLink.innerHTML = docLinkHtml;\n",
              "          element.appendChild(docLink);\n",
              "        }\n",
              "      </script>\n",
              "    </div>\n",
              "  </div>\n",
              "  "
            ]
          },
          "metadata": {},
          "execution_count": 26
        }
      ]
    },
    {
      "cell_type": "code",
      "source": [
        "plt.imshow(y2)\n",
        "plt.colorbar()\n",
        "plt.xticks(range(len(y2.columns)),y2.columns, rotation=45)\n",
        "plt.yticks(range(len(y2)),y2.index)\n",
        "plt.show()\n",
        "#ESTOY TRABAJANDO CON 2797 DATOS"
      ],
      "metadata": {
        "colab": {
          "base_uri": "https://localhost:8080/",
          "height": 301
        },
        "id": "eWtvMAt6oaeV",
        "outputId": "19b09fe0-9ac6-4c64-c34e-20ad5bb93a5a"
      },
      "execution_count": null,
      "outputs": [
        {
          "output_type": "display_data",
          "data": {
            "text/plain": [
              "<Figure size 432x288 with 2 Axes>"
            ],
            "image/png": "[encoded data removed]"
          },
          "metadata": {
            "needs_background": "light"
          }
        }
      ]
    },
    {
      "cell_type": "markdown",
      "source": [
        "#Anlalisis de topicos por rating"
      ],
      "metadata": {
        "id": "_39oeVRmCQvj"
      }
    },
    {
      "cell_type": "markdown",
      "source": [
        "#Clasificador de Suenios\n"
      ],
      "metadata": {
        "id": "XE5q2N_1tuog"
      }
    }
  ]
}